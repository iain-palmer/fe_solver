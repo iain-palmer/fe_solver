{
 "cells": [
  {
   "cell_type": "markdown",
   "metadata": {},
   "source": [
    "# Axisymmetric Elastic Solver\n",
    "## Introduction\n",
    "This notebook shows the element derivation and implementation of a simple linear solver for two-dimensional axisymmetric structural analyses. I've mainly done this to improve my own understanding of the finite element method, but it may be useful for others!"
   ]
  },
  {
   "cell_type": "markdown",
   "metadata": {},
   "source": [
    "# Equations: Cylindrical coordinates\n",
    "The three-dimensional elasticity equations in cylindrical coordinates are as follows:\n",
    "\\begin{equation*}\n",
    "\\frac{\\partial\\sigma_r}{\\partial r} + \\frac{1}{r} \\frac{\\partial\\tau_{r\\theta}}{\\partial \\theta} + \\frac{\\partial\\tau_{rz}}{\\partial z} + \\frac{\\sigma_r - \\sigma_\\theta}{r} + X_r = 0\\\\\n",
    "\\frac{\\partial\\tau_{r\\theta}}{\\partial r} + \\frac{1}{r} \\frac{\\partial\\sigma_\\theta}{\\partial \\theta} + \\frac{\\partial\\tau_{\\theta z}}{\\partial z} + \\frac{2}{r} \\tau_{r\\theta} + Y_\\theta = 0\\\\\n",
    "\\frac{\\partial\\tau_{rz}}{\\partial r} + \\frac{1}{r} \\frac{\\partial\\tau_{\\theta z}}{\\partial \\theta} + \\frac{\\partial\\sigma_z}{\\partial z} + \\frac{1}{r}\\tau_{rz} + Z_b = 0\\\\\n",
    "\\end{equation*}\n",
    "The three-dimensional strain-displacement relationships of elasticity in cylindrical coordinates are:\n",
    "\\begin{equation*}\n",
    "\\epsilon_r = \\frac{\\partial u}{\\partial r} ,\\quad \n",
    "\\epsilon_\\theta = \\frac{1}{r} \\frac{\\partial v}{\\partial \\theta} + \\frac{u}{r} ,\\quad\n",
    "\\epsilon_z = \\frac{\\partial w}{\\partial z} \\\\\n",
    "\\gamma_{r\\theta} = \\frac{1}{r} \\frac{\\partial u}{\\partial \\theta} + \\frac{\\partial v}{\\partial r} - \\frac{v}{r} ,\\quad  \n",
    "\\gamma_{rz} = \\frac{\\partial w}{\\partial r} + \\frac{\\partial u}{\\partial z} ,\\quad\n",
    "\\gamma_{\\theta z} = \\frac{\\partial v}{\\partial z} + \\frac{1}{r} \\frac{\\partial w}{\\partial \\theta}\n",
    "\\end{equation*}\n",
    "The three-dimensional stress-strain relationships for isotropic elasticity are:\n",
    "\\begin{equation*}\n",
    "\\begin{bmatrix} \\sigma_r\\\\ \\sigma_{\\theta} \\\\ \\sigma_z \\\\ \\tau_{r \\theta} \\\\ \\tau_{rz} \\\\ \\tau_{\\theta z} \\end{bmatrix} = \n",
    "\\frac{E}{(1 + \\nu)(1 - 2\\nu)}\n",
    "\\begin{bmatrix} 1-\\nu & \\nu & \\nu & 0 & 0 & 0\\\\\n",
    "\\nu & 1-\\nu & \\nu & 0 & 0 & 0\\\\\n",
    "\\nu & \\nu & 1-\\nu & 0 & 0 & 0\\\\\n",
    "0 & 0 & 0 & \\frac{1-2\\nu}{2} & 0 & 0\\\\\n",
    "0 & 0 & 0 & 0 & \\frac{1-2\\nu}{2} & 0\\\\\n",
    "0 & 0 & 0 & 0 & 0 & \\frac{1-2\\nu}{2}\\\\\n",
    "\\end{bmatrix}\n",
    "\\begin{bmatrix} \\epsilon_r\\\\ \\epsilon_\\theta \\\\ \\epsilon_z \\\\ \\gamma_{r \\theta} \\\\ \\gamma_{rz} \\\\ \\gamma_{\\theta z} \\end{bmatrix}\n",
    "\\end{equation*}"
   ]
  },
  {
   "cell_type": "markdown",
   "metadata": {},
   "source": [
    "# Equations: Axisymmetric problems\n",
    "In axisymmetric problems, because of the symmetry about the z-axis, the stresses are independent of the $\\theta$ coordinate. Therefore, all derivatives with respect to $\\theta$ vanish and the circumferential (tangent to $\\theta$ direction) displacement component is zero; therefore,\n",
    "\\begin{equation*}\n",
    "\\gamma_{r \\theta} = \\gamma_{\\theta r} = 0\\\\\n",
    "\\tau_{r \\theta} = \\tau{\\theta r} = 0\\\\\n",
    "\\end{equation*}\n",
    "Such that the strain-displacement equations become:\n",
    "\\begin{equation*}\n",
    "\\epsilon_r = \\frac{\\partial u}{\\partial r}\\\\\n",
    "\\epsilon_\\theta = \\frac{u}{r}\\\\\n",
    "\\epsilon_z = \\frac{\\partial w}{\\partial z}\\\\\n",
    "\\gamma_{rz} = \\frac{\\partial u}{\\partial z} + \\frac{\\partial w}{\\partial r}\\\\\n",
    "\\end{equation*}\n",
    "Or, alternatively:\n",
    "\\begin{equation*}\n",
    "\\begin{bmatrix} \\epsilon_r\\\\ \\epsilon_\\theta \\\\ \\epsilon_z \\\\ \\gamma_{rz} \\end{bmatrix} =\n",
    "\\begin{bmatrix} \\frac{\\partial}{\\partial r} & 0\\\\ \\frac{1}{r} & 0\\\\\n",
    "0 & \\frac{\\partial}{\\partial z}\\\\ \\frac{\\partial}{\\partial z} & \\frac{\\partial}{\\partial r} \\end{bmatrix}\n",
    "\\begin{bmatrix} u \\\\ w \\end{bmatrix}\n",
    "\\end{equation*}\n",
    "The stress-strain relationship then becomes:\n",
    "\\begin{equation*}\n",
    "\\begin{bmatrix} \\sigma_r\\\\ \\sigma_\\theta \\\\ \\sigma_z \\\\ \\tau_{rz} \\end{bmatrix} = \n",
    "\\frac{E}{(1 + \\nu)(1 - 2\\nu)}\n",
    "\\begin{bmatrix} 1-\\nu & \\nu & \\nu & 0 \\\\\n",
    "\\nu & 1-\\nu & \\nu & 0\\\\\n",
    "\\nu & \\nu & 1-\\nu & 0 \\\\\n",
    "0 & 0 & 0 & \\frac{1-2\\nu}{2}\n",
    "\\end{bmatrix}\n",
    "\\begin{bmatrix} \\epsilon_r\\\\ \\epsilon_\\theta \\\\ \\epsilon_z \\\\ \\gamma_{rz} \\end{bmatrix}\n",
    "\\end{equation*}\n",
    "Which can be written:\n",
    "\\begin{equation*} \\boldsymbol{\\sigma} = \\textbf{D} \\boldsymbol{\\epsilon} \\end{equation*}\n",
    "Similarly, the elasticity equations become:\n",
    "\\begin{equation*}\n",
    "\\frac{\\partial\\sigma_r}{\\partial r} + \\frac{\\partial\\tau_{rz}}{\\partial z} + \\frac{\\sigma_r - \\sigma_\\theta}{r} + X_r = 0\\\\\n",
    "\\frac{\\partial\\tau_{rz}}{\\partial r} + \\frac{\\partial\\sigma_z}{\\partial z} + \\frac{1}{r}\\tau_{rz} + Z_b = 0\\\\\n",
    "\\end{equation*}\n",
    "Or, alternatively:\n",
    "\\begin{equation*}\n",
    "\\begin{bmatrix} \\frac{\\partial}{\\partial r} + \\frac{1}{r} & - \\frac{1}{r} & 0 & \\frac{\\partial}{\\partial z} \\\\\n",
    "0 & 0 & \\frac{\\partial}{\\partial z} & \\frac{\\partial}{\\partial r} + \\frac{1}{r}\\\\\n",
    "\\end{bmatrix}\n",
    "\\begin{bmatrix} \\sigma_r\\\\ \\sigma_\\theta \\\\ \\sigma_z \\\\ \\tau_{rz} \\end{bmatrix} +\n",
    "\\begin{bmatrix} Xr\\\\ Z_b \\end{bmatrix} = \\begin{bmatrix} 0\\\\ 0 \\end{bmatrix}\n",
    "\\end{equation*}"
   ]
  },
  {
   "cell_type": "markdown",
   "metadata": {},
   "source": [
    "# Element formulation\n",
    "Using a four-node linear element, displacements are defined as follows:\n",
    "\\begin{equation*} u(r,z) = a_1 + a_2 r + a_3 z + a_4 rz \\\\\n",
    "w(r,z) = a_5 + a_6 r + a_7 z + a_8 rz \\\\ \\end{equation*}\n",
    "Or,\n",
    "\\begin{equation*}\n",
    "\\boldsymbol{\\Psi} = \\begin{bmatrix} u(r,z) \\\\ w(r,z) \\end{bmatrix} = \n",
    "\\begin{bmatrix} 1 & r & z & rz & 0 & 0 & 0 & 0\\\\ 0 & 0 & 0 & 0 & 1 & r & z & rz \\end{bmatrix}\n",
    "\\begin{bmatrix} a_1 \\\\ a_2 \\\\ a_3 \\\\ a_4 \\\\ a_5 \\\\ a_6 \\\\ a_7 \\\\ a_8 \\end{bmatrix} \\end{equation*}\n",
    "Displacements at the nodes are as follows:\n",
    "\\begin{equation*}\n",
    "\\begin{bmatrix} u_i \\\\ u_j \\\\ u_k \\\\ u_l \\end{bmatrix} = \n",
    "\\begin{bmatrix} 1 & r_i & z_i & r_i z_i\\\\ 1 & r_j & z_j & r_j z_j \\\\ 1 & r_k & z_k & r_k z_k \\\\ 1 & r_l & z_l & r_l z_l \\end{bmatrix} \\begin{bmatrix} a_1 \\\\ a_2 \\\\ a_3 \\\\ a_4 \\end{bmatrix} \\\\\n",
    "\\begin{bmatrix} w_i \\\\ w_j \\\\ w_k \\\\ w_l \\end{bmatrix} = \n",
    "\\begin{bmatrix} 1 & r_i & z_i & r_i z_i\\\\ 1 & r_j & z_j & r_j z_j \\\\ 1 & r_k & z_k & r_k z_k \\\\ 1 & r_l & z_l & r_l z_l \\end{bmatrix} \\begin{bmatrix} a_5 \\\\ a_6 \\\\ a_7 \\\\ a_8 \\end{bmatrix} \\\\ \\end{equation*}\n",
    "Rearranging:\n",
    "\\begin{equation*} \\begin{bmatrix} a_1 \\\\ a_2 \\\\ a_3 \\\\ a_4 \\end{bmatrix} =\n",
    "\\begin{bmatrix} 1 & r_i & z_i & r_i z_i\\\\ 1 & r_j & z_j & r_j z_j \\\\ 1 & r_k & z_k & r_k z_k \\\\ 1 & r_l & z_l & r_l z_l \\end{bmatrix}^{-1}\n",
    "\\begin{bmatrix} u_i \\\\ u_j \\\\ u_k \\\\ u_l \\end{bmatrix} \\\\\n",
    "\\begin{bmatrix} a_5 \\\\ a_6 \\\\ a_7 \\\\ a_8 \\end{bmatrix} =\n",
    "\\begin{bmatrix} 1 & r_i & z_i & r_i z_i\\\\ 1 & r_j & z_j & r_j z_j \\\\ 1 & r_k & z_k & r_k z_k \\\\ 1 & r_l & z_l & r_l z_l \\end{bmatrix}^{-1} \n",
    "\\begin{bmatrix} w_i \\\\ w_j \\\\ w_k \\\\ w_l \\end{bmatrix} \\end{equation*}\n",
    "The shape function is:\n",
    "\\begin{equation*} \\boldsymbol{\\Psi} = \\begin{bmatrix} u(r,z) \\\\ w(r,z) \\end{bmatrix} = \n",
    "\\begin{bmatrix} 1 & r & z & rz & 0 & 0 & 0 & 0\\\\ 0 & 0 & 0 & 0 & 1 & r & z & rz \\end{bmatrix}\n",
    "\\begin{bmatrix} 1 & r_i & z_i & r_i z_i & 0 & 0 & 0 & 0 \\\\ \n",
    "1 & r_j & z_j & r_j z_j & 0 & 0 & 0 & 0 \\\\ \n",
    "1 & r_k & z_k & r_k z_k & 0 & 0 & 0 & 0 \\\\ \n",
    "1 & r_l & z_l & r_l z_l & 0 & 0 & 0 & 0 \\\\\n",
    "0 & 0 & 0 & 0 & 1 & r_i & z_i & r_i z_i \\\\\n",
    "0 & 0 & 0 & 0 & 1 & r_i & z_i & r_i z_i \\\\\n",
    "0 & 0 & 0 & 0 & 1 & r_i & z_i & r_i z_i \\\\\n",
    "0 & 0 & 0 & 0 & 1 & r_i & z_i & r_i z_i \\\\\\end{bmatrix}^{-1}\n",
    "\\begin{bmatrix} u_i \\\\ u_j \\\\ u_k \\\\ u_l \\\\ w_i \\\\ w_j \\\\ w_k \\\\ w_l \\end{bmatrix} \\end{equation*}"
   ]
  },
  {
   "cell_type": "markdown",
   "metadata": {},
   "source": [
    "The element strain formulation then becomes:\n",
    "\\begin{equation*}\n",
    "\\begin{bmatrix} \\epsilon_r\\\\ \\epsilon_\\theta \\\\ \\epsilon_z \\\\ \\gamma_{rz} \\end{bmatrix} =\n",
    "\\begin{bmatrix} \\frac{\\partial}{\\partial r} & 0\\\\ \\frac{1}{r} & 0\\\\\n",
    "0 & \\frac{\\partial}{\\partial z}\\\\ \\frac{\\partial}{\\partial z} & \\frac{\\partial}{\\partial r} \\end{bmatrix}\n",
    "\\begin{bmatrix} u \\\\ w \\end{bmatrix} =\n",
    "\\begin{bmatrix} \\frac{\\partial}{\\partial r} & 0\\\\ \\frac{1}{r} & 0\\\\\n",
    "0 & \\frac{\\partial}{\\partial z}\\\\ \\frac{\\partial}{\\partial z} & \\frac{\\partial}{\\partial r} \\end{bmatrix}\n",
    "\\begin{bmatrix} 1 & r & z & rz & 0 & 0 & 0 & 0\\\\ 0 & 0 & 0 & 0 & 1 & r & z & rz \\end{bmatrix}\n",
    "\\begin{bmatrix} 1 & r_i & z_i & r_i z_i & 0 & 0 & 0 & 0 \\\\ \n",
    "1 & r_j & z_j & r_j z_j & 0 & 0 & 0 & 0 \\\\ \n",
    "1 & r_k & z_k & r_k z_k & 0 & 0 & 0 & 0 \\\\ \n",
    "1 & r_l & z_l & r_l z_l & 0 & 0 & 0 & 0 \\\\\n",
    "0 & 0 & 0 & 0 & 1 & r_i & z_i & r_i z_i \\\\\n",
    "0 & 0 & 0 & 0 & 1 & r_i & z_i & r_i z_i \\\\\n",
    "0 & 0 & 0 & 0 & 1 & r_i & z_i & r_i z_i \\\\\n",
    "0 & 0 & 0 & 0 & 1 & r_i & z_i & r_i z_i \\\\\\end{bmatrix}^{-1}\n",
    "\\begin{bmatrix} u_i \\\\ u_j \\\\ u_k \\\\ u_l \\\\ w_i \\\\ w_j \\\\ w_k \\\\ w_l \\end{bmatrix} \\end{equation*}"
   ]
  },
  {
   "cell_type": "markdown",
   "metadata": {},
   "source": [
    "Or:\n",
    "\\begin{equation*}\n",
    "\\begin{bmatrix} \\epsilon_r\\\\ \\epsilon_\\theta \\\\ \\epsilon_z \\\\ \\gamma_{rz} \\end{bmatrix} =\n",
    "\\begin{bmatrix} 0 & 1 & 0 & z & 0 & 0 & 0 & 0\\\\\n",
    "\\frac{1}{r} & 1 & \\frac{z}{r} & z & 0 & 0 & 0 & 0\\\\\n",
    "0 & 0 & 0 & 0 & 0 & 0 & 1 & r\\\\ \n",
    "0 & 0 & 1 & r & 0 & 1 & 0 & z\\end{bmatrix}\n",
    "\\begin{bmatrix} 1 & r_i & z_i & r_i z_i & 0 & 0 & 0 & 0 \\\\ \n",
    "1 & r_j & z_j & r_j z_j & 0 & 0 & 0 & 0 \\\\ \n",
    "1 & r_k & z_k & r_k z_k & 0 & 0 & 0 & 0 \\\\ \n",
    "1 & r_l & z_l & r_l z_l & 0 & 0 & 0 & 0 \\\\\n",
    "0 & 0 & 0 & 0 & 1 & r_i & z_i & r_i z_i \\\\\n",
    "0 & 0 & 0 & 0 & 1 & r_i & z_i & r_i z_i \\\\\n",
    "0 & 0 & 0 & 0 & 1 & r_i & z_i & r_i z_i \\\\\n",
    "0 & 0 & 0 & 0 & 1 & r_i & z_i & r_i z_i \\\\\\end{bmatrix}^{-1}\n",
    "\\begin{bmatrix} u_i \\\\ u_j \\\\ u_k \\\\ u_l \\\\ w_i \\\\ w_j \\\\ w_k \\\\ w_l \\end{bmatrix}\n",
    "\\end{equation*}\n",
    "Which can be written:\n",
    "\\begin{equation*} \\boldsymbol{\\epsilon} = \\textbf{Bu} \\end{equation*}"
   ]
  },
  {
   "cell_type": "markdown",
   "metadata": {},
   "source": [
    "The element stiffness matrix is:\n",
    "\\begin{equation*} \\textbf{K} = \\textbf{B}^\\textbf{T} \\textbf{DB} \\end{equation*} \n",
    "\\begin{equation*} \\textbf{K} = \\iiint\\limits_V \\textbf{B}^\\textbf{T} \\textbf{DB} dV \\end{equation*}\n",
    "\\begin{equation*} \\textbf{K} = 2 \\pi \\iint\\limits_A \\textbf{B}^\\textbf{T} \\textbf{DB} r dr dz \\end{equation*}"
   ]
  },
  {
   "cell_type": "markdown",
   "metadata": {},
   "source": [
    "# Python implementation of element formulation\n",
    "Let's use the above to calculate the stiffness matrix for a single element:"
   ]
  },
  {
   "cell_type": "code",
   "execution_count": 1,
   "metadata": {},
   "outputs": [],
   "source": [
    "import numpy as np\n",
    "def B_matrix(r, z, r_z):\n",
    "    B = np.array([\n",
    "        [0, 1, 0, z, 0, 0, 0, 0],\n",
    "        [1/r, 1, z/r, z, 0, 0, 0, 0],\n",
    "        [0, 0, 0, 0, 0, 0, 1, r],\n",
    "        [0, 0, 1, r, 0, 1, 0, z]\n",
    "    ])\n",
    "    B = B@np.linalg.pinv(np.array(\n",
    "        [[1., r_z[i], r_z[i+4], r_z[i]*r_z[i+4], 0., 0., 0., 0.] for i in range(4)] + \\\n",
    "        [[0., 0., 0., 0., 1., r_z[i], r_z[i+4], r_z[i]*r_z[i+4]] for i in range(4)]\n",
    "    ))\n",
    "    return B\n",
    "    \n",
    "D = lambda E, nu: np.array([\n",
    "    [1-nu, nu, nu, 0],\n",
    "    [nu, 1-nu, nu, 0],\n",
    "    [nu, nu, 1-nu, 0],\n",
    "    [0, 0, 0, (1-2*nu)/2],\n",
    "])*E/((1.+nu)*(1.-2*nu))\n",
    "                        \n",
    "def calc_element_area(r_z):\n",
    "    A = abs(\n",
    "        ((r_z[0]*r_z[5] - r_z[1]*r_z[4]) +\n",
    "         (r_z[1]*r_z[6] - r_z[2]*r_z[5]) + \n",
    "         (r_z[2]*r_z[7] - r_z[3]*r_z[6]) +\n",
    "         (r_z[3]*r_z[4] - r_z[0]*r_z[7])\n",
    "        )/2\n",
    "    )\n",
    "    return A\n",
    "\n",
    "def stiffness_matrix(r_z, E, nu):\n",
    "    r_BT_D_B = lambda r, z, r_z, E, nu: r*B_matrix(r, z, r_z).T@D(E, nu)@B_matrix(r, z, r_z)\n",
    "    A = calc_element_area(r_z)\n",
    "    K = 2*A*np.pi*sum(r_BT_D_B(r_z[i],r_z[i+4], r_z, E, nu) for i in range(4))/4\n",
    "    return K"
   ]
  },
  {
   "cell_type": "code",
   "execution_count": 2,
   "metadata": {},
   "outputs": [
    {
     "name": "stdout",
     "output_type": "stream",
     "text": [
      "[[ 1.0337e+08 -2.2958e+07 -8.0012e-06 -8.0754e+07  2.8525e+07 -5.5673e+06 -2.8869e+07  5.9116e+06]\n",
      " [-2.2958e+07  1.0337e+08 -8.0754e+07 -8.5676e-06  5.5673e+06 -2.8525e+07 -5.9116e+06  2.8869e+07]\n",
      " [-8.0012e-06 -8.0754e+07  1.0429e+08 -2.3187e+07 -2.8812e+07  5.6247e+06  2.9156e+07 -5.9690e+06]\n",
      " [-8.0754e+07 -8.5676e-06 -2.3187e+07  1.0429e+08 -5.6247e+06  2.8812e+07  5.9690e+06 -2.9156e+07]\n",
      " [ 2.8525e+07  5.5673e+06 -2.8812e+07 -5.6247e+06  1.0342e+08 -8.0352e+07 -3.4866e-06 -2.3073e+07]\n",
      " [-5.5673e+06 -2.8525e+07  5.6247e+06  2.8812e+07 -8.0352e+07  1.0342e+08 -2.3073e+07 -5.4814e-06]\n",
      " [-2.8869e+07 -5.9116e+06  2.9156e+07  5.9690e+06 -3.4866e-06 -2.3073e+07  1.0423e+08 -8.1156e+07]\n",
      " [ 5.9116e+06  2.8869e+07 -5.9690e+06 -2.9156e+07 -2.3073e+07 -5.4814e-06 -8.1156e+07  1.0423e+08]]\n"
     ]
    }
   ],
   "source": [
    "coords = [[100, -0.5], [100, 0.5], [101, 0.5], [101, -0.5]]\n",
    "elements = [[0, 1, 2, 3]]\n",
    "def get_element_r_z(elno, elements, coords):\n",
    "     return np.array([coords[elements[elno][i]][0] for i in range(4)] + \n",
    "                     [coords[elements[elno][i]][1] for i in range(4)])\n",
    "r_z = get_element_r_z(0, elements, coords)\n",
    "K = stiffness_matrix(r_z, 190000, 0.3)\n",
    "np.set_printoptions(precision=4, linewidth=120)\n",
    "print(K)"
   ]
  },
  {
   "cell_type": "markdown",
   "metadata": {},
   "source": [
    "Using matplotlib, we can plot the element..."
   ]
  },
  {
   "cell_type": "code",
   "execution_count": 3,
   "metadata": {},
   "outputs": [
    {
     "data": {
      "image/png": "[encoded data removed]",
      "text/plain": [
       "<Figure size 432x288 with 1 Axes>"
      ]
     },
     "metadata": {
      "needs_background": "light"
     },
     "output_type": "display_data"
    }
   ],
   "source": [
    "import matplotlib.pyplot as plt\n",
    "def plot_element(x, ax=None, color=\"b\"):\n",
    "    if ax is None:\n",
    "        ax = plt.axes()\n",
    "    ax.plot(np.append(x[4:], x[4]),\n",
    "             np.append(x[:4], x[0]), color=color)\n",
    "    return ax\n",
    "plot_element(r_z)\n",
    "plt.show()"
   ]
  },
  {
   "cell_type": "code",
   "execution_count": 4,
   "metadata": {},
   "outputs": [
    {
     "name": "stdout",
     "output_type": "stream",
     "text": [
      "[ 0.5285  0.5285  0.5228  0.5228 -0.004   0.004   0.004  -0.004 ]\n"
     ]
    },
    {
     "data": {
      "image/png": "[encoded data removed]",
      "text/plain": [
       "<Figure size 432x288 with 1 Axes>"
      ]
     },
     "metadata": {
      "needs_background": "light"
     },
     "output_type": "display_data"
    }
   ],
   "source": [
    "F_r = 5000\n",
    "F_z = 1000*np.pi*(101**2-100**2)\n",
    "F=np.array([F_r, F_r, 0, 0, -F_z, F_z, F_z, -F_z])\n",
    "u = np.linalg.pinv(K)@F\n",
    "print(u)\n",
    "ax = plot_element(r_z)\n",
    "plot_element(r_z + u, ax, \"r\")\n",
    "plt.show()"
   ]
  },
  {
   "cell_type": "code",
   "execution_count": 5,
   "metadata": {},
   "outputs": [
    {
     "name": "stdout",
     "output_type": "stream",
     "text": [
      "[-5.1066e-01  1.6068e+03  2.0091e+03  8.8505e-01]\n",
      "[-5.1066e-01  1.6068e+03  2.0091e+03 -8.8505e-01]\n",
      "[-1.5101e+01  1.5763e+03  1.9910e+03  8.8505e-01]\n",
      "[-1.5101e+01  1.5763e+03  1.9910e+03 -8.8505e-01]\n"
     ]
    }
   ],
   "source": [
    "print(D(190000, 0.3)@B_matrix(100,-0.5,r_z)@u)\n",
    "print(D(190000, 0.3)@B_matrix(100,0.5,r_z)@u)\n",
    "print(D(190000, 0.3)@B_matrix(101,-0.5,r_z)@u)\n",
    "print(D(190000, 0.3)@B_matrix(101,0.5,r_z)@u)"
   ]
  },
  {
   "cell_type": "markdown",
   "metadata": {},
   "source": [
    "# Assembly of stiffness matrix\n",
    "Now let's try assembling the stiffness matrix so we can create a two-element model:"
   ]
  },
  {
   "cell_type": "code",
   "execution_count": 6,
   "metadata": {},
   "outputs": [],
   "source": [
    "def assemble_stiffness_matrix(coords, elements, elmat):\n",
    "    dof = len(coords)*2\n",
    "    K = np.zeros([dof, dof])\n",
    "    for elno, nodenos in enumerate(elements):\n",
    "        r_z = get_element_r_z(elno, elements, coords)\n",
    "        E, nu = elmat[elno]\n",
    "        K_el = stiffness_matrix(r_z, E, nu)\n",
    "        for i, j in enumerate(nodenos):\n",
    "            for k, l in enumerate(nodenos):\n",
    "                K[j, l] += K_el[i, k]\n",
    "                K[j, l+len(coords)] += K_el[i, k+4]\n",
    "                K[j+len(coords), l] += K_el[i+4, k]\n",
    "                K[j+len(coords), l+len(coords)] += K_el[i+4, k+4]\n",
    "    return K"
   ]
  },
  {
   "cell_type": "code",
   "execution_count": 7,
   "metadata": {},
   "outputs": [],
   "source": [
    "coords = [[10,-0.5], [10,0.5], [11,-0.5], [11,0.5], [12,-0.5], [12,0.5]]\n",
    "elements = [[0, 1, 3, 2], [2, 3, 5, 4]]\n",
    "elmat = [[190000, 0.3], [190000, 0.3]]\n",
    "K = assemble_stiffness_matrix(coords, elements, elmat)"
   ]
  },
  {
   "cell_type": "code",
   "execution_count": 8,
   "metadata": {},
   "outputs": [
    {
     "name": "stdout",
     "output_type": "stream",
     "text": [
      "[-0.0413 -0.0413 -0.049  -0.049  -0.0566 -0.0566 -0.0112  0.0112 -0.0112  0.0112 -0.0112  0.0112]\n"
     ]
    },
    {
     "data": {
      "image/png": "[encoded data removed]",
      "text/plain": [
       "<Figure size 432x288 with 1 Axes>"
      ]
     },
     "metadata": {
      "needs_background": "light"
     },
     "output_type": "display_data"
    }
   ],
   "source": [
    "F_r = 1000\n",
    "F_z = 1000*np.pi*(12**2-10**2)/10\n",
    "F = np.array([F_r, F_r, F_r, F_r, F_r, F_r, -10*F_z, 10*F_z, -2*11*F_z, 2*11*F_z, -12*F_z, 12*F_z])\n",
    "u = np.linalg.pinv(K)@F\n",
    "print(u)\n",
    "ax = None\n",
    "for elno, nodenos in enumerate(elements):\n",
    "    r_z = get_element_r_z(elno, elements, coords)\n",
    "    u_el = np.append(u[nodenos], u[[i+len(coords) for i in nodenos]])\n",
    "    ax = plot_element(r_z, ax)\n",
    "    ax = plot_element(r_z + u_el, ax, \"r\")\n",
    "plt.show()"
   ]
  },
  {
   "cell_type": "code",
   "execution_count": 9,
   "metadata": {},
   "outputs": [
    {
     "name": "stdout",
     "output_type": "stream",
     "text": [
      "[   8.8938  539.8846 4403.6508   69.5387]\n",
      "[   8.8938  539.8846 4403.6508   69.5387]\n",
      "[ -16.8794  465.8396 4391.7854   76.4925]\n",
      "[ -16.8794  465.8396 4391.7854   76.4925]\n",
      "[  20.2002  481.7308 4407.6766   58.5197]\n",
      "[  20.2002  481.7308 4407.6766   58.5197]\n",
      "[-6.6553e-01  4.2240e+02  4.3975e+03  6.3840e+01]\n",
      "[-6.6553e-01  4.2240e+02  4.3975e+03  6.3840e+01]\n"
     ]
    }
   ],
   "source": [
    "for elno, nodenos in enumerate(elements):\n",
    "    r_z = get_element_r_z(elno, elements, coords)\n",
    "    u_el = np.append(u[nodenos], u[[i+len(coords) for i in nodenos]])\n",
    "    for nodeno in nodenos:\n",
    "        print(D(190000, 0.3)@B_matrix(coords[nodeno][0],coords[nodeno][0],r_z)@u_el)"
   ]
  },
  {
   "cell_type": "markdown",
   "metadata": {},
   "source": [
    "# Six element model\n",
    "And now, a six element model...."
   ]
  },
  {
   "cell_type": "code",
   "execution_count": 10,
   "metadata": {},
   "outputs": [],
   "source": [
    "coords = [\n",
    "    [10, -0.5],\n",
    "    [10, 0],\n",
    "    [10, 1],\n",
    "    [11, -0.5],\n",
    "    [11, 0],\n",
    "    [11, 0.5],\n",
    "    [12, -0.5],\n",
    "    [12, 0],\n",
    "    [12, 0.5],\n",
    "    [13, -1],\n",
    "    [13, 0],\n",
    "    [13, 0.5]\n",
    "] \n",
    "elements = [\n",
    "    [0, 1, 4, 3],\n",
    "    [1, 2, 5, 4],\n",
    "    [3, 4, 7, 6],\n",
    "    [4, 5, 8, 7],\n",
    "    [6, 7, 10, 9],\n",
    "    [7, 8, 11, 10]]\n",
    "elmat = [[190000, 0.3], [190000, 0.3], [190000, 0.3], [190000, 0.3], [190000, 0.3], [190000, 0.3]]\n",
    "K = assemble_stiffness_matrix(coords, elements, elmat)"
   ]
  },
  {
   "cell_type": "markdown",
   "metadata": {},
   "source": [
    "This time, we want to calculate the radial nodal forces based on c.f. load. The element body force is:\n",
    "\n",
    "\\begin{equation*} f_b = 2 \\pi \\bar{r} A R_b\\end{equation*}\n",
    "\n",
    "Where $R_b = \\omega^2 \\rho \\bar{r}$.\n",
    "\n",
    "Average radius $\\bar{r}\\$ is:\n",
    "\n",
    "\\begin{equation*} \\bar{r} = \\int\\limits_A r dA \\end{equation*}\n",
    "\n",
    "For a triangle, this is the average of the nodal radii; a quadrilateral, it is the area-weighted average of the two triangles:\n",
    "\n",
    "$$\\bar{r} = \\frac{\\frac{1}{3}A_{123}(r_1 + r_2 + r_3) + \\frac{1}{3}A_{234}(r_2 + r_3 + r_4)}{A}$$\n",
    "\n",
    "$$A_{123} = \\frac{1}{2} \\vert r_1 z_2 + r_2 z_3 + r_3 z_1 − r_1 z_3 − r_3 z_2 − r_2 z_1 \\vert$$\n",
    "\n",
    "$$A_{234} = \\frac{1}{2} \\vert r_2 z_3 + r_3 z_4 + r_4 z_2 − r_2 z_4 − r_4 z_3 − r_3 z_2 \\vert$$"
   ]
  },
  {
   "cell_type": "code",
   "execution_count": 11,
   "metadata": {},
   "outputs": [
    {
     "name": "stdout",
     "output_type": "stream",
     "text": [
      "[ 0.3131  0.2939  0.2548  0.3049  0.286   0.2669  0.2979  0.2793  0.2606  0.3093  0.273   0.2546 -0.0521 -0.0568\n",
      " -0.0654 -0.0143 -0.0185 -0.0223  0.0228  0.0191  0.0157  0.0628  0.056   0.053 ]\n"
     ]
    },
    {
     "data": {
      "image/png": "[encoded data removed]",
      "text/plain": [
       "<Figure size 432x288 with 1 Axes>"
      ]
     },
     "metadata": {
      "needs_background": "light"
     },
     "output_type": "display_data"
    }
   ],
   "source": [
    "rho = 8908*10**-9\n",
    "omega = 2000\n",
    "r_, A, F_r, F_z = [], [], [0]*len(coords), [0]*len(coords)\n",
    "\n",
    "def calc_element_r_(r_z):\n",
    "    A_123 = 0.5*abs(r_z[0]*r_z[5] + r_z[1]*r_z[6] + r_z[2]*r_z[4] - r_z[0]*r_z[6] - r_z[2]*r_z[5]  - r_z[1]*r_z[4])\n",
    "    A_234 = 0.5*abs(r_z[1]*r_z[6] + r_z[2]*r_z[7] + r_z[3]*r_z[5] - r_z[1]*r_z[7] - r_z[3]*r_z[6]  - r_z[2]*r_z[5])\n",
    "    r_123 = (r_z[0] + r_z[1] + r_z[2])/3\n",
    "    r_234 = (r_z[1] + r_z[2] + r_z[3])/3\n",
    "    A = A_123 + A_234\n",
    "    r_ = (r_123 * A_123 + r_234 * A_234) / A\n",
    "    return r_, A\n",
    "\n",
    "for elno, nodenos in enumerate(elements):\n",
    "    r_z = get_element_r_z(elno, elements, coords)\n",
    "    A.append(calc_element_area(r_z))\n",
    "    r_, A_ = calc_element_r_(r_z)\n",
    "    fb = 2*np.pi*r_**2*A_*omega**2*rho\n",
    "    for i in nodenos:\n",
    "        F_r[i] += fb/4\n",
    "\n",
    "F = np.array(F_r + F_z)\n",
    "u = np.linalg.pinv(K)@F\n",
    "print(u)\n",
    "ax = None\n",
    "for elno, nodenos in enumerate(elements):\n",
    "    r_z = get_element_r_z(elno, elements, coords)\n",
    "    u_el = np.append(u[nodenos], u[[i+len(coords) for i in nodenos]])\n",
    "    ax = plot_element(r_z, ax)\n",
    "    ax = plot_element(r_z + u_el, ax, \"r\")\n",
    "plt.show()"
   ]
  },
  {
   "cell_type": "code",
   "execution_count": 12,
   "metadata": {},
   "outputs": [
    {
     "name": "stdout",
     "output_type": "stream",
     "text": [
      "[-0.0009 -0.009  -0.0095  0.0119]\n",
      "[-0.0009 -0.009  -0.0095  0.0119]\n",
      "[-0.0002 -0.0117 -0.0083  0.0138]\n",
      "[-0.0002 -0.0117 -0.0083  0.0138]\n",
      "[ 0.0013 -0.0097 -0.0085  0.0075]\n",
      "[ 0.0013 -0.0097 -0.0085  0.0075]\n",
      "[ 0.0022 -0.0122 -0.0077  0.0093]\n",
      "[ 0.0022 -0.0122 -0.0077  0.0093]\n",
      "[-0.0002 -0.0117 -0.0083  0.0097]\n",
      "[-0.0002 -0.0117 -0.0083  0.0097]\n",
      "[ 0.0004 -0.0138 -0.0074  0.0112]\n",
      "[ 0.0004 -0.0138 -0.0074  0.0112]\n",
      "[ 0.002  -0.0122 -0.0077  0.008 ]\n",
      "[ 0.002  -0.0122 -0.0077  0.008 ]\n",
      "[ 0.0028 -0.0141 -0.0069  0.0096]\n",
      "[ 0.0028 -0.0141 -0.0069  0.0096]\n",
      "[ 0.0034 -0.0138 -0.0074  0.008 ]\n",
      "[ 0.0034 -0.0138 -0.0074  0.008 ]\n",
      "[ 0.0042 -0.0153 -0.0068  0.0095]\n",
      "[ 0.0042 -0.0153 -0.0068  0.0095]\n",
      "[ 0.0022 -0.0141 -0.0069  0.0094]\n",
      "[ 0.0022 -0.0141 -0.0069  0.0094]\n",
      "[ 0.0029 -0.0157 -0.0061  0.011 ]\n",
      "[ 0.0029 -0.0157 -0.0061  0.011 ]\n"
     ]
    }
   ],
   "source": [
    "for elno, nodenos in enumerate(elements):\n",
    "    r_z = get_element_r_z(elno, elements, coords)\n",
    "    u_el = np.append(u[nodenos], u[[i+len(coords) for i in nodenos]])\n",
    "    for nodeno in nodenos:\n",
    "        print(B_matrix(coords[nodeno][0],coords[nodeno][0],r_z)@u_el)"
   ]
  },
  {
   "cell_type": "code",
   "execution_count": 13,
   "metadata": {},
   "outputs": [
    {
     "data": {
      "image/png": "[encoded data removed]",
      "text/plain": [
       "<Figure size 432x288 with 1 Axes>"
      ]
     },
     "metadata": {
      "needs_background": "light"
     },
     "output_type": "display_data"
    }
   ],
   "source": [
    "ax = plt.axes()\n",
    "vmin, vmax = 9999, -9999\n",
    "for elno, nodenos in enumerate(elements):\n",
    "    u_el = np.append(u[nodenos], u[[i+len(coords) for i in nodenos]])\n",
    "    for nodeno in nodenos:\n",
    "        sigma = (B_matrix(coords[nodeno][0],coords[nodeno][1],r_z)@u_el)[1]\n",
    "        vmin = sigma if sigma < vmin else vmin\n",
    "        vmax = sigma if sigma > vmax else vmax\n",
    "\n",
    "for elno, nodenos in enumerate(elements):\n",
    "    r_z = get_element_r_z(elno, elements, coords)\n",
    "    u_el = np.append(u[nodenos], u[[i+len(coords) for i in nodenos]])\n",
    "    str_hp = []\n",
    "    for nodeno in nodenos:\n",
    "        str_hp.append((B_matrix(coords[nodeno][0],coords[nodeno][1],r_z)@u_el)[1])\n",
    "    ax.contourf([[r_z[4], r_z[5]],[r_z[7], r_z[6]]],[[r_z[0], r_z[1]],[r_z[3], r_z[2]]],[[str_hp[0],str_hp[1]],[str_hp[3],str_hp[2]]], vmin=vmin, vmax=vmax)\n",
    "\n",
    "#ax.colorbar()\n",
    "plt.show()"
   ]
  },
  {
   "cell_type": "code",
   "execution_count": 14,
   "metadata": {},
   "outputs": [],
   "source": [
    "coords = [\n",
    "    [10, -4],\n",
    "    [10, -3],\n",
    "    [10, -2],\n",
    "    [10, -1],\n",
    "    [10, 0],\n",
    "    [10, 1],\n",
    "    [10, 2],\n",
    "    [10, 3],\n",
    "    [10, 4],\n",
    "    [11, -4],\n",
    "    [11, -3],\n",
    "    [11, -2],\n",
    "    [11, -1],\n",
    "    [11, 0],\n",
    "    [11, 1],\n",
    "    [11, 2],\n",
    "    [11, 3],\n",
    "    [11, 4],\n",
    "    [12, -4*3/4],\n",
    "    [12, -3*3/4],\n",
    "    [12, -2*3/4],\n",
    "    [12, -1*3/4],\n",
    "    [12, 0*3/4],\n",
    "    [12, 1*3/4],\n",
    "    [12, 2*3/4],\n",
    "    [12, 3*3/4],\n",
    "    [12, 4*3/4],\n",
    "    [13, -4*2/3],\n",
    "    [13, -3*2/3],\n",
    "    [13, -2*2/3],\n",
    "    [13, -1*2/3],\n",
    "    [13, 0*2/3],\n",
    "    [13, 1*2/3],\n",
    "    [13, 2*2/3],\n",
    "    [13, 3*2/3],\n",
    "    [13, 4*2/3],\n",
    "    [14, -4*3/5],\n",
    "    [14, -3*3/5],\n",
    "    [14, -2*3/5],\n",
    "    [14, -1*3/5],\n",
    "    [14, 0*3/5],\n",
    "    [14, 1*3/5],\n",
    "    [14, 2*3/5],\n",
    "    [14, 3*3/5],\n",
    "    [14, 4*3/5],\n",
    "    [15, -4*3/5],\n",
    "    [15, -3*3/5],\n",
    "    [15, -2*3/5],\n",
    "    [15, -1*3/5],\n",
    "    [15, 0*3/5],\n",
    "    [15, 1*3/5],\n",
    "    [15, 2*3/5],\n",
    "    [15, 3*3/5],\n",
    "    [15, 4*3/5],\n",
    "    [16, -4*3/5],\n",
    "    [16, -3*3/5],\n",
    "    [16, -2*3/5],\n",
    "    [16, -1*3/5],\n",
    "    [16, 0*3/5],\n",
    "    [16, 1*3/5],\n",
    "    [16, 2*3/5],\n",
    "    [16, 3*3/5],\n",
    "    [16, 4*3/5],\n",
    "    [17, -4*2/3],\n",
    "    [17, -3*2/3],\n",
    "    [17, -2*2/3],\n",
    "    [17, -1*2/3],\n",
    "    [17, 0*2/3],\n",
    "    [17, 1*2/3],\n",
    "    [17, 2*2/3],\n",
    "    [17, 3*2/3],\n",
    "    [17, 4*2/3],\n",
    "    [18, -4*3/4],\n",
    "    [18, -3*3/4],\n",
    "    [18, -2*3/4],\n",
    "    [18, -1*3/4],\n",
    "    [18, 0*3/4],\n",
    "    [18, 1*3/4],\n",
    "    [18, 2*3/4],\n",
    "    [18, 3*3/4],\n",
    "    [18, 4*3/4],\n",
    "    [19, -4],\n",
    "    [19, -3],\n",
    "    [19, -2],\n",
    "    [19, -1],\n",
    "    [19, 0],\n",
    "    [19, 1],\n",
    "    [19, 2],\n",
    "    [19, 3],\n",
    "    [19, 4],\n",
    "    [20, -4],\n",
    "    [20, -3],\n",
    "    [20, -2],\n",
    "    [20, -1],\n",
    "    [20, 0],\n",
    "    [20, 1],\n",
    "    [20, 2],\n",
    "    [20, 3],\n",
    "    [20, 4],\n",
    "] \n",
    "elements = []\n",
    "elmat =[]\n",
    "for i in range(10):\n",
    "    for j in range(8):\n",
    "        elements.append([\n",
    "            9 * i + j,\n",
    "            9 * i + j + 1,\n",
    "            9 * i + j + 10,\n",
    "            9 * i + j + 9\n",
    "        ])\n",
    "        elmat.append([190000, 0.3])\n",
    "K = assemble_stiffness_matrix(coords, elements, elmat)"
   ]
  },
  {
   "cell_type": "code",
   "execution_count": 15,
   "metadata": {},
   "outputs": [
    {
     "name": "stdout",
     "output_type": "stream",
     "text": [
      "[ 6.1532e-01  6.2738e-01  6.3707e-01  6.4319e-01  6.4525e-01  6.4319e-01  6.3707e-01  6.2738e-01  6.1532e-01\n",
      "  5.9959e-01  6.1203e-01  6.2209e-01  6.2835e-01  6.3043e-01  6.2835e-01  6.2209e-01  6.1203e-01  5.9959e-01\n",
      "  6.0000e-01  6.0888e-01  6.1500e-01  6.1842e-01  6.1950e-01  6.1842e-01  6.1500e-01  6.0888e-01  6.0000e-01\n",
      "  5.9806e-01  6.0429e-01  6.0840e-01  6.1071e-01  6.1144e-01  6.1071e-01  6.0840e-01  6.0429e-01  5.9806e-01\n",
      "  5.9809e-01  6.0154e-01  6.0383e-01  6.0514e-01  6.0557e-01  6.0514e-01  6.0383e-01  6.0154e-01  5.9809e-01\n",
      "  5.9760e-01  5.9906e-01  6.0015e-01  6.0083e-01  6.0105e-01  6.0083e-01  6.0015e-01  5.9906e-01  5.9760e-01\n",
      "  5.9702e-01  5.9683e-01  5.9688e-01  5.9698e-01  5.9702e-01  5.9698e-01  5.9688e-01  5.9683e-01  5.9702e-01\n",
      "  5.9545e-01  5.9399e-01  5.9317e-01  5.9278e-01  5.9267e-01  5.9278e-01  5.9317e-01  5.9399e-01  5.9545e-01\n",
      "  5.9222e-01  5.8999e-01  5.8853e-01  5.8776e-01  5.8753e-01  5.8776e-01  5.8853e-01  5.8999e-01  5.9222e-01\n",
      "  5.8816e-01  5.8542e-01  5.8319e-01  5.8183e-01  5.8140e-01  5.8183e-01  5.8319e-01  5.8542e-01  5.8816e-01\n",
      "  5.7986e-01  5.7786e-01  5.7603e-01  5.7486e-01  5.7447e-01  5.7486e-01  5.7603e-01  5.7786e-01  5.7986e-01\n",
      "  8.9669e-02  6.9502e-02  4.7500e-02  2.4084e-02  2.3955e-13 -2.4084e-02 -4.7500e-02 -6.9502e-02 -8.9669e-02\n",
      "  7.8070e-02  6.0444e-02  4.1065e-02  2.0720e-02  1.8966e-13 -2.0720e-02 -4.1065e-02 -6.0444e-02 -7.8070e-02\n",
      "  5.3326e-02  4.0663e-02  2.7365e-02  1.3741e-02  1.4192e-13 -1.3741e-02 -2.7365e-02 -4.0663e-02 -5.3326e-02\n",
      "  4.4586e-02  3.3216e-02  2.2038e-02  1.0989e-02  9.4549e-14 -1.0989e-02 -2.2038e-02 -3.3216e-02 -4.4586e-02\n",
      "  3.8049e-02  2.8002e-02  1.8439e-02  9.1557e-03  4.2914e-14 -9.1557e-03 -1.8439e-02 -2.8002e-02 -3.8049e-02\n",
      "  3.5968e-02  2.6279e-02  1.7225e-02  8.5308e-03 -1.0727e-14 -8.5308e-03 -1.7225e-02 -2.6279e-02 -3.5968e-02\n",
      "  3.3050e-02  2.4272e-02  1.5949e-02  7.9078e-03 -6.7788e-14 -7.9078e-03 -1.5949e-02 -2.4272e-02 -3.3050e-02\n",
      "  3.3304e-02  2.4687e-02  1.6312e-02  8.1114e-03 -1.2135e-13 -8.1114e-03 -1.6312e-02 -2.4687e-02 -3.3304e-02\n",
      "  3.3831e-02  2.5636e-02  1.7172e-02  8.5995e-03 -1.6967e-13 -8.5995e-03 -1.7172e-02 -2.5636e-02 -3.3831e-02\n",
      "  4.2818e-02  3.2932e-02  2.2283e-02  1.1223e-02 -2.1961e-13 -1.1223e-02 -2.2283e-02 -3.2932e-02 -4.2818e-02\n",
      "  4.3136e-02  3.3561e-02  2.2910e-02  1.1600e-02 -2.6711e-13 -1.1600e-02 -2.2910e-02 -3.3561e-02 -4.3136e-02]\n"
     ]
    },
    {
     "data": {
      "image/png": "[encoded data removed]",
      "text/plain": [
       "<Figure size 432x288 with 1 Axes>"
      ]
     },
     "metadata": {
      "needs_background": "light"
     },
     "output_type": "display_data"
    }
   ],
   "source": [
    "r_, A, F_r, F_z = [], [], [0]*len(coords), [0]*len(coords)\n",
    "for elno, nodenos in enumerate(elements):\n",
    "    r_z = get_element_r_z(elno, elements, coords)\n",
    "    A.append(calc_element_area(r_z))\n",
    "    r_, A_ = calc_element_r_(r_z)\n",
    "    fb = 2*np.pi*r_**2*A_*omega**2*rho\n",
    "    for i in nodenos:\n",
    "        F_r[i] += fb/4\n",
    "\n",
    "F = np.array(F_r + F_z)\n",
    "u = np.linalg.pinv(K)@F\n",
    "print(u)\n",
    "ax = None\n",
    "for elno, nodenos in enumerate(elements):\n",
    "    r_z = get_element_r_z(elno, elements, coords)\n",
    "    u_el = np.append(u[nodenos], u[[i+len(coords) for i in nodenos]])\n",
    "    ax = plot_element(r_z, ax)\n",
    "    ax = plot_element(r_z + u_el, ax, \"r\")\n",
    "plt.show()"
   ]
  },
  {
   "cell_type": "code",
   "execution_count": 16,
   "metadata": {},
   "outputs": [
    {
     "name": "stdout",
     "output_type": "stream",
     "text": [
      "[0.061531800608617286, 0.0627380368747737, 0.05563884184687243, 0.05450825449124034]\n",
      "[0.06273803687477328, 0.06370669303994758, 0.05655402043144549, 0.05563884184687228]\n",
      "[0.06370669303994837, 0.06431867775116373, 0.05712291096767207, 0.056554020431445993]\n",
      "[0.06431867775116429, 0.06452459667403873, 0.057311675188097266, 0.057122910967672635]\n",
      "[0.06452459667403872, 0.06431867775117442, 0.05712291096768178, 0.057311675188097294]\n",
      "[0.06431867775117374, 0.06370669303996805, 0.056554020431463126, 0.057122910967681025]\n",
      "[0.06370669303996696, 0.06273803687480155, 0.05563884184689749, 0.0565540204314626]\n",
      "[0.06273803687480227, 0.06153180060865589, 0.054508254491274624, 0.055638841846898476]\n",
      "[0.05450825449123922, 0.05563884184687179, 0.0507400785145083, 0.049999799113962365]\n",
      "[0.0556388418468724, 0.056554020431444744, 0.051249620605416116, 0.05074007851450843]\n",
      "[0.05655402043144547, 0.05712291096767276, 0.0515350324881892, 0.05124962060541695]\n",
      "[0.05712291096767337, 0.05731167518809658, 0.05162538807262927, 0.05153503248818995]\n",
      "[0.05731167518809645, 0.0571229109676826, 0.051535032488195964, 0.05162538807262925]\n",
      "[0.05712291096768177, 0.056554020431462744, 0.05124962060542946, 0.05153503248819567]\n",
      "[0.05655402043146255, 0.05563884184689867, 0.05074007851452659, 0.051249620605428786]\n",
      "[0.05563884184689659, 0.054508254491272404, 0.04999979911398533, 0.050740078514526096]\n",
      "[0.049999799113962594, 0.050740078514507965, 0.04648390204468944, 0.04600470398375176]\n",
      "[0.05074007851450914, 0.05124962060541778, 0.046799928684983484, 0.04648390204469]\n",
      "[0.05124962060541793, 0.0515350324881897, 0.04697731864205269, 0.04679992868498403]\n",
      "[0.05153503248819081, 0.051625388072629, 0.04703421299718831, 0.046977318642053394]\n",
      "[0.05162538807262907, 0.05153503248819674, 0.04697731864205811, 0.04703421299718837]\n",
      "[0.05153503248819538, 0.051249620605429126, 0.04679992868499304, 0.04697731864205705]\n",
      "[0.05124962060542872, 0.05074007851452605, 0.0464839020447041, 0.04679992868499282]\n",
      "[0.05074007851452557, 0.0499997991139852, 0.046004703983770934, 0.04648390204470381]\n",
      "[0.046004703983751734, 0.04648390204468945, 0.04296686960618051, 0.04272050665855311]\n",
      "[0.04648390204469003, 0.04679992868498333, 0.04313051954667119, 0.04296686960618013]\n",
      "[0.0467999286849834, 0.046977318642052374, 0.04322436125113769, 0.04313051954667157]\n",
      "[0.04697731864205316, 0.04703421299718865, 0.04325493704576121, 0.043224361251138224]\n",
      "[0.04703421299718867, 0.046977318642057966, 0.04322436125114237, 0.04325493704576113]\n",
      "[0.04697731864205735, 0.046799928684993636, 0.04313051954667982, 0.043224361251142034]\n",
      "[0.04679992868499315, 0.04648390204470493, 0.04296686960619262, 0.0431305195466793]\n",
      "[0.04648390204470437, 0.04600470398377075, 0.04272050665856934, 0.042966869606192386]\n",
      "[0.04272050665855359, 0.04296686960618095, 0.039937189763678715, 0.03984022264089629]\n",
      "[0.04296686960618062, 0.0431305195466718, 0.04001030151019609, 0.03993718976367864]\n",
      "[0.04313051954667146, 0.04322436125113763, 0.0400551276607935, 0.04001030151019587]\n",
      "[0.043224361251138, 0.0432549370457614, 0.04007018657973671, 0.04005512766079368]\n",
      "[0.04325493704576157, 0.043224361251142165, 0.040055127660797704, 0.040070186579736836]\n",
      "[0.043224361251142054, 0.043130519546679756, 0.0400103015102043, 0.040055127660797794]\n",
      "[0.0431305195466794, 0.0429668696061924, 0.03993718976369, 0.04001030151020355]\n",
      "[0.04296686960619175, 0.042720506658569024, 0.03984022264091112, 0.039937189763689616]\n",
      "[0.039840222640896775, 0.03993718976367901, 0.03730217433242135, 0.037313892642505814]\n",
      "[0.03993718976367842, 0.040010301510196154, 0.0373052006125022, 0.03730217433242076]\n",
      "[0.04001030151019545, 0.04005512766079323, 0.037310993904903375, 0.03730520061250215]\n",
      "[0.04005512766079365, 0.04007018657973692, 0.037313544220674746, 0.0373109939049036]\n",
      "[0.04007018657973701, 0.04005512766079745, 0.037310993904907205, 0.03731354422067481]\n",
      "[0.04005512766079748, 0.0400103015102037, 0.03730520061250968, 0.0373109939049073]\n",
      "[0.04001030151020352, 0.03993718976368949, 0.03730217433243173, 0.037305200612509117]\n",
      "[0.03993718976369003, 0.03984022264091141, 0.037313892642520545, 0.03730217433243199]\n",
      "[0.037313892642505175, 0.03730217433242072, 0.03494042209687735, 0.03502639037960598]\n",
      "[0.03730217433242005, 0.037305200612502, 0.03489238248646654, 0.03494042209687683]\n",
      "[0.0373052006125019, 0.03731099390490286, 0.03486965599933005, 0.03489238248646709]\n",
      "[0.03731099390490345, 0.037313544220674795, 0.034863181244658085, 0.034869655999330396]\n",
      "[0.0373135442206749, 0.03731099390490716, 0.034869655999334406, 0.03486318124465824]\n",
      "[0.03731099390490695, 0.03730520061251015, 0.03489238248647548, 0.03486965599933421]\n",
      "[0.037305200612509554, 0.037302174332432235, 0.03494042209688881, 0.034892382486474735]\n",
      "[0.037302174332431944, 0.0373138926425206, 0.035026390379621054, 0.0349404220968888]\n",
      "[0.035026390379605525, 0.034940422096877075, 0.03277717888490257, 0.032901079003007115]\n",
      "[0.03494042209687736, 0.03489238248646702, 0.03269585038780506, 0.032777178884903016]\n",
      "[0.03489238248646716, 0.034869655999330576, 0.03265345256037306, 0.03269585038780547]\n",
      "[0.034869655999330486, 0.034863181244658384, 0.03264083214724033, 0.032653452560372914]\n",
      "[0.03486318124465845, 0.03486965599933446, 0.03265345256037699, 0.03264083214724029]\n",
      "[0.03486965599933434, 0.03489238248647487, 0.032695850387813294, 0.03265345256037688]\n",
      "[0.03489238248647477, 0.03494042209688854, 0.032777178884914604, 0.03269585038781328]\n",
      "[0.03494042209688906, 0.035026390379621575, 0.032901079003022776, 0.03277717888491509]\n",
      "[0.032901079003006574, 0.03277717888490298, 0.0308115551377478, 0.030955948843942132]\n",
      "[0.032777178884901795, 0.03269585038780347, 0.03069411807930991, 0.030811555137747866]\n",
      "[0.03269585038780503, 0.03265345256037299, 0.03062276766533227, 0.030694118079310474]\n",
      "[0.03265345256037292, 0.03264083214724038, 0.03059975571198856, 0.030622767665332208]\n",
      "[0.03264083214724032, 0.03265345256037719, 0.030622767665337402, 0.030599755711988506]\n",
      "[0.03265345256037709, 0.032695850387813405, 0.030694118079320938, 0.030622767665337468]\n",
      "[0.03269585038781247, 0.032777178884914694, 0.030811555137763253, 0.030694118079320636]\n",
      "[0.03277717888491449, 0.03290107900302178, 0.03095594884396206, 0.030811555137762722]\n",
      "[0.030955948843941872, 0.030811555137747932, 0.028893052962123904, 0.02899301437311911]\n",
      "[0.030811555137747946, 0.03069411807931048, 0.028801362529551306, 0.02889305296212418]\n",
      "[0.030694118079309964, 0.030622767665331885, 0.028742899703978458, 0.028801362529550664]\n",
      "[0.030622767665332274, 0.03059975571198851, 0.02872350457171365, 0.0287428997039793]\n",
      "[0.030599755711988537, 0.03062276766533728, 0.028742899703983745, 0.028723504571713545]\n",
      "[0.030622767665336878, 0.030694118079320168, 0.028801362529560472, 0.028742899703983603]\n",
      "[0.030694118079320674, 0.030811555137762923, 0.028893052962138475, 0.02880136252956098]\n",
      "[0.03081155513776233, 0.030955948843961544, 0.028993014373137515, 0.028893052962137882]\n"
     ]
    },
    {
     "data": {
      "image/png": "[encoded data removed]",
      "text/plain": [
       "<Figure size 432x288 with 1 Axes>"
      ]
     },
     "metadata": {
      "needs_background": "light"
     },
     "output_type": "display_data"
    }
   ],
   "source": [
    "ax = plt.axes()\n",
    "vmin, vmax = 9999, -9999\n",
    "for elno, nodenos in enumerate(elements):\n",
    "    u_el = np.append(u[nodenos], u[[i+len(coords) for i in nodenos]])\n",
    "    for nodeno in nodenos:\n",
    "        sigma = (B_matrix(coords[nodeno][0],coords[nodeno][1],r_z)@u_el)[1]\n",
    "        vmin = sigma if sigma < vmin else vmin\n",
    "        vmax = sigma if sigma > vmax else vmax\n",
    "\n",
    "for elno, nodenos in enumerate(elements):\n",
    "    r_z = get_element_r_z(elno, elements, coords)\n",
    "    u_el = np.append(u[nodenos], u[[i+len(coords) for i in nodenos]])\n",
    "    str_hp = []\n",
    "    for nodeno in nodenos:\n",
    "        str_hp.append((B_matrix(coords[nodeno][0],coords[nodeno][1],r_z)@u_el)[1])\n",
    "    print(str_hp)\n",
    "    ax.contourf([[r_z[4], r_z[5]],[r_z[7], r_z[6]]],[[r_z[0], r_z[1]],[r_z[3], r_z[2]]],[[str_hp[0],str_hp[1]],[str_hp[3],str_hp[2]]], vmin=vmin, vmax=vmax)\n",
    "\n",
    "#ax.colorbar()\n",
    "plt.show()"
   ]
  }
 ],
 "metadata": {
  "kernelspec": {
   "display_name": "Python 3 (ipykernel)",
   "language": "python",
   "name": "python3"
  },
  "language_info": {
   "codemirror_mode": {
    "name": "ipython",
    "version": 3
   },
   "file_extension": ".py",
   "mimetype": "text/x-python",
   "name": "python",
   "nbconvert_exporter": "python",
   "pygments_lexer": "ipython3",
   "version": "3.9.5"
  }
 },
 "nbformat": 4,
 "nbformat_minor": 2
}
