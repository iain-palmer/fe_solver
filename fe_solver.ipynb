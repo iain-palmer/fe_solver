{
 "cells": [
  {
   "cell_type": "markdown",
   "metadata": {},
   "source": [
    "# Axisymmetric Elastic Solver\n",
    "## Introduction\n",
    "This notebook shows the element derivation and implementation of a simple linear solver for two-dimensional axisymmetric structural analyses. I've mainly done this to improve my own understanding of the finite element method, but it may be useful for others!"
   ]
  },
  {
   "cell_type": "markdown",
   "metadata": {},
   "source": [
    "# Equations: Cylindrical coordinates\n",
    "The three-dimensional elasticity equations in cylindrical coordinates are as follows:\n",
    "\\begin{equation*}\n",
    "\\frac{\\partial\\sigma_r}{\\partial r} + \\frac{1}{r} \\frac{\\partial\\tau_{r\\theta}}{\\partial \\theta} + \\frac{\\partial\\tau_{rz}}{\\partial z} + \\frac{\\sigma_r - \\sigma_\\theta}{r} + X_r = 0\\\\\n",
    "\\frac{\\partial\\tau_{r\\theta}}{\\partial r} + \\frac{1}{r} \\frac{\\partial\\sigma_\\theta}{\\partial \\theta} + \\frac{\\partial\\tau_{\\theta z}}{\\partial z} + \\frac{2}{r} \\tau_{r\\theta} + Y_\\theta = 0\\\\\n",
    "\\frac{\\partial\\tau_{rz}}{\\partial r} + \\frac{1}{r} \\frac{\\partial\\tau_{\\theta z}}{\\partial \\theta} + \\frac{\\partial\\sigma_z}{\\partial z} + \\frac{1}{r}\\tau_{rz} + Z_b = 0\\\\\n",
    "\\end{equation*}\n",
    "The three-dimensional strain-displacement relationships of elasticity in cylindrical coordinates are:\n",
    "\\begin{equation*}\n",
    "\\epsilon_r = \\frac{\\partial u}{\\partial r} ,\\quad \n",
    "\\epsilon_\\theta = \\frac{1}{r} \\frac{\\partial v}{\\partial \\theta} + \\frac{u}{r} ,\\quad\n",
    "\\epsilon_z = \\frac{\\partial w}{\\partial z} \\\\\n",
    "\\gamma_{r\\theta} = \\frac{1}{r} \\frac{\\partial u}{\\partial \\theta} + \\frac{\\partial v}{\\partial r} - \\frac{v}{r} ,\\quad  \n",
    "\\gamma_{rz} = \\frac{\\partial w}{\\partial r} + \\frac{\\partial u}{\\partial z} ,\\quad\n",
    "\\gamma_{\\theta z} = \\frac{\\partial v}{\\partial z} + \\frac{1}{r} \\frac{\\partial w}{\\partial \\theta}\n",
    "\\end{equation*}\n",
    "The three-dimensional stress-strain relationships for isotropic elasticity are:\n",
    "\\begin{equation*}\n",
    "\\begin{bmatrix} \\sigma_r\\\\ \\sigma_{\\theta} \\\\ \\sigma_z \\\\ \\tau_{r \\theta} \\\\ \\tau_{rz} \\\\ \\tau_{\\theta z} \\end{bmatrix} = \n",
    "\\frac{E}{(1 + \\nu)(1 - 2\\nu)}\n",
    "\\begin{bmatrix} 1-\\nu & \\nu & \\nu & 0 & 0 & 0\\\\\n",
    "\\nu & 1-\\nu & \\nu & 0 & 0 & 0\\\\\n",
    "\\nu & \\nu & 1-\\nu & 0 & 0 & 0\\\\\n",
    "0 & 0 & 0 & \\frac{1-2\\nu}{2} & 0 & 0\\\\\n",
    "0 & 0 & 0 & 0 & \\frac{1-2\\nu}{2} & 0\\\\\n",
    "0 & 0 & 0 & 0 & 0 & \\frac{1-2\\nu}{2}\\\\\n",
    "\\end{bmatrix}\n",
    "\\begin{bmatrix} \\epsilon_r\\\\ \\epsilon_\\theta \\\\ \\epsilon_z \\\\ \\gamma_{r \\theta} \\\\ \\gamma_{rz} \\\\ \\gamma_{\\theta z} \\end{bmatrix}\n",
    "\\end{equation*}"
   ]
  },
  {
   "cell_type": "markdown",
   "metadata": {},
   "source": [
    "# Equations: Axisymmetric problems\n",
    "In axisymmetric problems, because of the symmetry about the z-axis, the stresses are independent of the $\\theta$ coordinate. Therefore, all derivatives with respect to $\\theta$ vanish and the circumferential (tangent to $\\theta$ direction) displacement component is zero; therefore,\n",
    "\\begin{equation*}\n",
    "\\gamma_{r \\theta} = \\gamma_{\\theta r} = 0\\\\\n",
    "\\tau_{r \\theta} = \\tau{\\theta r} = 0\\\\\n",
    "\\end{equation*}\n",
    "Such that the strain-displacement equations become:\n",
    "\\begin{equation*}\n",
    "\\epsilon_r = \\frac{\\partial u}{\\partial r}\\\\\n",
    "\\epsilon_\\theta = \\frac{u}{r}\\\\\n",
    "\\epsilon_z = \\frac{\\partial w}{\\partial z}\\\\\n",
    "\\gamma_{rz} = \\frac{\\partial u}{\\partial z} + \\frac{\\partial w}{\\partial r}\\\\\n",
    "\\end{equation*}\n",
    "Or, alternatively:\n",
    "\\begin{equation*}\n",
    "\\begin{bmatrix} \\epsilon_r\\\\ \\epsilon_\\theta \\\\ \\epsilon_z \\\\ \\gamma_{rz} \\end{bmatrix} =\n",
    "\\begin{bmatrix} \\frac{\\partial}{\\partial r} & 0\\\\ \\frac{1}{r} & 0\\\\\n",
    "0 & \\frac{\\partial}{\\partial z}\\\\ \\frac{\\partial}{\\partial z} & \\frac{\\partial}{\\partial r} \\end{bmatrix}\n",
    "\\begin{bmatrix} u \\\\ w \\end{bmatrix}\n",
    "\\end{equation*}\n",
    "The stress-strain relationship then becomes:\n",
    "\\begin{equation*}\n",
    "\\begin{bmatrix} \\sigma_r\\\\ \\sigma_\\theta \\\\ \\sigma_z \\\\ \\tau_{rz} \\end{bmatrix} = \n",
    "\\frac{E}{(1 + \\nu)(1 - 2\\nu)}\n",
    "\\begin{bmatrix} 1-\\nu & \\nu & \\nu & 0 \\\\\n",
    "\\nu & 1-\\nu & \\nu & 0\\\\\n",
    "\\nu & \\nu & 1-\\nu & 0 \\\\\n",
    "0 & 0 & 0 & \\frac{1-2\\nu}{2}\n",
    "\\end{bmatrix}\n",
    "\\begin{bmatrix} \\epsilon_r\\\\ \\epsilon_\\theta \\\\ \\epsilon_z \\\\ \\gamma_{rz} \\end{bmatrix}\n",
    "\\end{equation*}\n",
    "Which can be written:\n",
    "\\begin{equation*} \\boldsymbol{\\sigma} = \\textbf{D} \\boldsymbol{\\epsilon} \\end{equation*}\n",
    "Similarly, the elasticity equations become:\n",
    "\\begin{equation*}\n",
    "\\frac{\\partial\\sigma_r}{\\partial r} + \\frac{\\partial\\tau_{rz}}{\\partial z} + \\frac{\\sigma_r - \\sigma_\\theta}{r} + X_r = 0\\\\\n",
    "\\frac{\\partial\\tau_{rz}}{\\partial r} + \\frac{\\partial\\sigma_z}{\\partial z} + \\frac{1}{r}\\tau_{rz} + Z_b = 0\\\\\n",
    "\\end{equation*}\n",
    "Or, alternatively:\n",
    "\\begin{equation*}\n",
    "\\begin{bmatrix} \\frac{\\partial}{\\partial r} + \\frac{1}{r} & - \\frac{1}{r} & 0 & \\frac{\\partial}{\\partial z} \\\\\n",
    "0 & 0 & \\frac{\\partial}{\\partial z} & \\frac{\\partial}{\\partial r} + \\frac{1}{r}\\\\\n",
    "\\end{bmatrix}\n",
    "\\begin{bmatrix} \\sigma_r\\\\ \\sigma_\\theta \\\\ \\sigma_z \\\\ \\tau_{rz} \\end{bmatrix} +\n",
    "\\begin{bmatrix} Xr\\\\ Z_b \\end{bmatrix} = \\begin{bmatrix} 0\\\\ 0 \\end{bmatrix}\n",
    "\\end{equation*}"
   ]
  },
  {
   "cell_type": "markdown",
   "metadata": {},
   "source": [
    "# Element formulation\n",
    "Using a four-node linear element, displacements are defined as follows:\n",
    "\\begin{equation*} u(r,z) = a_1 + a_2 r + a_3 z + a_4 rz \\\\\n",
    "w(r,z) = a_5 + a_6 r + a_7 z + a_8 rz \\\\ \\end{equation*}\n",
    "Or,\n",
    "\\begin{equation*}\n",
    "\\boldsymbol{\\Psi} = \\begin{bmatrix} u(r,z) \\\\ w(r,z) \\end{bmatrix} = \n",
    "\\begin{bmatrix} 1 & r & z & rz & 0 & 0 & 0 & 0\\\\ 0 & 0 & 0 & 0 & 1 & r & z & rz \\end{bmatrix}\n",
    "\\begin{bmatrix} a_1 \\\\ a_2 \\\\ a_3 \\\\ a_4 \\\\ a_5 \\\\ a_6 \\\\ a_7 \\\\ a_8 \\end{bmatrix} \\end{equation*}\n",
    "Displacements at the nodes are as follows:\n",
    "\\begin{equation*}\n",
    "\\begin{bmatrix} u_i \\\\ u_j \\\\ u_k \\\\ u_l \\end{bmatrix} = \n",
    "\\begin{bmatrix} 1 & r_i & z_i & r_i z_i\\\\ 1 & r_j & z_j & r_j z_j \\\\ 1 & r_k & z_k & r_k z_k \\\\ 1 & r_l & z_l & r_l z_l \\end{bmatrix} \\begin{bmatrix} a_1 \\\\ a_2 \\\\ a_3 \\\\ a_4 \\end{bmatrix} \\\\\n",
    "\\begin{bmatrix} w_i \\\\ w_j \\\\ w_k \\\\ w_l \\end{bmatrix} = \n",
    "\\begin{bmatrix} 1 & r_i & z_i & r_i z_i\\\\ 1 & r_j & z_j & r_j z_j \\\\ 1 & r_k & z_k & r_k z_k \\\\ 1 & r_l & z_l & r_l z_l \\end{bmatrix} \\begin{bmatrix} a_5 \\\\ a_6 \\\\ a_7 \\\\ a_8 \\end{bmatrix} \\\\ \\end{equation*}\n",
    "Rearranging:\n",
    "\\begin{equation*} \\begin{bmatrix} a_1 \\\\ a_2 \\\\ a_3 \\\\ a_4 \\end{bmatrix} =\n",
    "\\begin{bmatrix} 1 & r_i & z_i & r_i z_i\\\\ 1 & r_j & z_j & r_j z_j \\\\ 1 & r_k & z_k & r_k z_k \\\\ 1 & r_l & z_l & r_l z_l \\end{bmatrix}^{-1}\n",
    "\\begin{bmatrix} u_i \\\\ u_j \\\\ u_k \\\\ u_l \\end{bmatrix} \\\\\n",
    "\\begin{bmatrix} a_5 \\\\ a_6 \\\\ a_7 \\\\ a_8 \\end{bmatrix} =\n",
    "\\begin{bmatrix} 1 & r_i & z_i & r_i z_i\\\\ 1 & r_j & z_j & r_j z_j \\\\ 1 & r_k & z_k & r_k z_k \\\\ 1 & r_l & z_l & r_l z_l \\end{bmatrix}^{-1} \n",
    "\\begin{bmatrix} w_i \\\\ w_j \\\\ w_k \\\\ w_l \\end{bmatrix} \\end{equation*}\n",
    "The shape function is:\n",
    "\\begin{equation*} \\boldsymbol{\\Psi} = \\begin{bmatrix} u(r,z) \\\\ w(r,z) \\end{bmatrix} = \n",
    "\\begin{bmatrix} 1 & r & z & rz & 0 & 0 & 0 & 0\\\\ 0 & 0 & 0 & 0 & 1 & r & z & rz \\end{bmatrix}\n",
    "\\begin{bmatrix} 1 & r_i & z_i & r_i z_i & 0 & 0 & 0 & 0 \\\\ \n",
    "1 & r_j & z_j & r_j z_j & 0 & 0 & 0 & 0 \\\\ \n",
    "1 & r_k & z_k & r_k z_k & 0 & 0 & 0 & 0 \\\\ \n",
    "1 & r_l & z_l & r_l z_l & 0 & 0 & 0 & 0 \\\\\n",
    "0 & 0 & 0 & 0 & 1 & r_i & z_i & r_i z_i \\\\\n",
    "0 & 0 & 0 & 0 & 1 & r_i & z_i & r_i z_i \\\\\n",
    "0 & 0 & 0 & 0 & 1 & r_i & z_i & r_i z_i \\\\\n",
    "0 & 0 & 0 & 0 & 1 & r_i & z_i & r_i z_i \\\\\\end{bmatrix}^{-1}\n",
    "\\begin{bmatrix} u_i \\\\ u_j \\\\ u_k \\\\ u_l \\\\ w_i \\\\ w_j \\\\ w_k \\\\ w_l \\end{bmatrix} \\end{equation*}"
   ]
  },
  {
   "cell_type": "markdown",
   "metadata": {},
   "source": [
    "The element strain formulation then becomes:\n",
    "\\begin{equation*}\n",
    "\\begin{bmatrix} \\epsilon_r\\\\ \\epsilon_\\theta \\\\ \\epsilon_z \\\\ \\gamma_{rz} \\end{bmatrix} =\n",
    "\\begin{bmatrix} \\frac{\\partial}{\\partial r} & 0\\\\ \\frac{1}{r} & 0\\\\\n",
    "0 & \\frac{\\partial}{\\partial z}\\\\ \\frac{\\partial}{\\partial z} & \\frac{\\partial}{\\partial r} \\end{bmatrix}\n",
    "\\begin{bmatrix} u \\\\ w \\end{bmatrix} =\n",
    "\\begin{bmatrix} \\frac{\\partial}{\\partial r} & 0\\\\ \\frac{1}{r} & 0\\\\\n",
    "0 & \\frac{\\partial}{\\partial z}\\\\ \\frac{\\partial}{\\partial z} & \\frac{\\partial}{\\partial r} \\end{bmatrix}\n",
    "\\begin{bmatrix} 1 & r & z & rz & 0 & 0 & 0 & 0\\\\ 0 & 0 & 0 & 0 & 1 & r & z & rz \\end{bmatrix}\n",
    "\\begin{bmatrix} 1 & r_i & z_i & r_i z_i & 0 & 0 & 0 & 0 \\\\ \n",
    "1 & r_j & z_j & r_j z_j & 0 & 0 & 0 & 0 \\\\ \n",
    "1 & r_k & z_k & r_k z_k & 0 & 0 & 0 & 0 \\\\ \n",
    "1 & r_l & z_l & r_l z_l & 0 & 0 & 0 & 0 \\\\\n",
    "0 & 0 & 0 & 0 & 1 & r_i & z_i & r_i z_i \\\\\n",
    "0 & 0 & 0 & 0 & 1 & r_i & z_i & r_i z_i \\\\\n",
    "0 & 0 & 0 & 0 & 1 & r_i & z_i & r_i z_i \\\\\n",
    "0 & 0 & 0 & 0 & 1 & r_i & z_i & r_i z_i \\\\\\end{bmatrix}^{-1}\n",
    "\\begin{bmatrix} u_i \\\\ u_j \\\\ u_k \\\\ u_l \\\\ w_i \\\\ w_j \\\\ w_k \\\\ w_l \\end{bmatrix} \\end{equation*}"
   ]
  },
  {
   "cell_type": "markdown",
   "metadata": {},
   "source": [
    "Or:\n",
    "\\begin{equation*}\n",
    "\\begin{bmatrix} \\epsilon_r\\\\ \\epsilon_\\theta \\\\ \\epsilon_z \\\\ \\gamma_{rz} \\end{bmatrix} =\n",
    "\\begin{bmatrix} 0 & 1 & 0 & z & 0 & 0 & 0 & 0\\\\\n",
    "\\frac{1}{r} & 1 & \\frac{z}{r} & z & 0 & 0 & 0 & 0\\\\\n",
    "0 & 0 & 0 & 0 & 0 & 0 & 1 & r\\\\ \n",
    "0 & 0 & 1 & r & 0 & 1 & 0 & z\\end{bmatrix}\n",
    "\\begin{bmatrix} 1 & r_i & z_i & r_i z_i & 0 & 0 & 0 & 0 \\\\ \n",
    "1 & r_j & z_j & r_j z_j & 0 & 0 & 0 & 0 \\\\ \n",
    "1 & r_k & z_k & r_k z_k & 0 & 0 & 0 & 0 \\\\ \n",
    "1 & r_l & z_l & r_l z_l & 0 & 0 & 0 & 0 \\\\\n",
    "0 & 0 & 0 & 0 & 1 & r_i & z_i & r_i z_i \\\\\n",
    "0 & 0 & 0 & 0 & 1 & r_i & z_i & r_i z_i \\\\\n",
    "0 & 0 & 0 & 0 & 1 & r_i & z_i & r_i z_i \\\\\n",
    "0 & 0 & 0 & 0 & 1 & r_i & z_i & r_i z_i \\\\\\end{bmatrix}^{-1}\n",
    "\\begin{bmatrix} u_i \\\\ u_j \\\\ u_k \\\\ u_l \\\\ w_i \\\\ w_j \\\\ w_k \\\\ w_l \\end{bmatrix}\n",
    "\\end{equation*}\n",
    "Which can be written:\n",
    "\\begin{equation*} \\boldsymbol{\\epsilon} = \\textbf{Bu} \\end{equation*}"
   ]
  },
  {
   "cell_type": "markdown",
   "metadata": {},
   "source": [
    "The element stiffness matrix is:\n",
    "\\begin{equation*} \\textbf{K} = \\textbf{B}^\\textbf{T} \\textbf{DB} \\end{equation*} \n",
    "\\begin{equation*} \\textbf{K} = \\iiint\\limits_V \\textbf{B}^\\textbf{T} \\textbf{DB} dV \\end{equation*}\n",
    "\\begin{equation*} \\textbf{K} = 2 \\pi \\iint\\limits_A \\textbf{B}^\\textbf{T} \\textbf{DB} r dr dz \\end{equation*}"
   ]
  },
  {
   "cell_type": "markdown",
   "metadata": {},
   "source": [
    "# Python implementation of element formulation\n",
    "Let's use the above to calculate the stiffness matrix for a single element:"
   ]
  },
  {
   "cell_type": "code",
   "execution_count": 1,
   "metadata": {},
   "outputs": [],
   "source": [
    "import numpy as np\n",
    "def B_matrix(r, z, r_z):\n",
    "    B = np.array([\n",
    "        [0, 1, 0, z, 0, 0, 0, 0],\n",
    "        [1/r, 1, z/r, z, 0, 0, 0, 0],\n",
    "        [0, 0, 0, 0, 0, 0, 1, r],\n",
    "        [0, 0, 1, r, 0, 1, 0, z]\n",
    "    ])\n",
    "    B = B@np.linalg.pinv(np.array(\n",
    "        [[1., r_z[i], r_z[i+4], r_z[i]*r_z[i+4], 0., 0., 0., 0.] for i in range(4)] + \\\n",
    "        [[0., 0., 0., 0., 1., r_z[i], r_z[i+4], r_z[i]*r_z[i+4]] for i in range(4)]\n",
    "    ))\n",
    "    return B\n",
    "    \n",
    "D = lambda E, nu: np.array([\n",
    "    [1-nu, nu, nu, 0],\n",
    "    [nu, 1-nu, nu, 0],\n",
    "    [nu, nu, 1-nu, 0],\n",
    "    [0, 0, 0, (1-2*nu)/2],\n",
    "])*E/((1.+nu)*(1.-2*nu))\n",
    "                        \n",
    "def calc_element_area(r_z):\n",
    "    A = abs(\n",
    "        ((r_z[0]*r_z[5] - r_z[1]*r_z[4]) +\n",
    "         (r_z[1]*r_z[6] - r_z[2]*r_z[5]) + \n",
    "         (r_z[2]*r_z[7] - r_z[3]*r_z[6]) +\n",
    "         (r_z[3]*r_z[4] - r_z[0]*r_z[7])\n",
    "        )/2\n",
    "    )\n",
    "    return A\n",
    "\n",
    "def stiffness_matrix(r_z, E, nu):\n",
    "    r_BT_D_B = lambda r, z, r_z, E, nu: r*B_matrix(r, z, r_z).T@D(E, nu)@B_matrix(r, z, r_z)\n",
    "    A = calc_element_area(r_z)\n",
    "    K = 2*A*np.pi*sum(r_BT_D_B(r_z[i],r_z[i+4], r_z, E, nu) for i in range(4))/4\n",
    "    return K"
   ]
  },
  {
   "cell_type": "code",
   "execution_count": 2,
   "metadata": {},
   "outputs": [
    {
     "name": "stdout",
     "output_type": "stream",
     "text": [
      "[[ 1.0337e+08 -2.2958e+07 -8.0012e-06 -8.0754e+07  2.8525e+07 -5.5673e+06 -2.8869e+07  5.9116e+06]\n",
      " [-2.2958e+07  1.0337e+08 -8.0754e+07 -8.5676e-06  5.5673e+06 -2.8525e+07 -5.9116e+06  2.8869e+07]\n",
      " [-8.0012e-06 -8.0754e+07  1.0429e+08 -2.3187e+07 -2.8812e+07  5.6247e+06  2.9156e+07 -5.9690e+06]\n",
      " [-8.0754e+07 -8.5676e-06 -2.3187e+07  1.0429e+08 -5.6247e+06  2.8812e+07  5.9690e+06 -2.9156e+07]\n",
      " [ 2.8525e+07  5.5673e+06 -2.8812e+07 -5.6247e+06  1.0342e+08 -8.0352e+07 -3.4866e-06 -2.3073e+07]\n",
      " [-5.5673e+06 -2.8525e+07  5.6247e+06  2.8812e+07 -8.0352e+07  1.0342e+08 -2.3073e+07 -5.4814e-06]\n",
      " [-2.8869e+07 -5.9116e+06  2.9156e+07  5.9690e+06 -3.4866e-06 -2.3073e+07  1.0423e+08 -8.1156e+07]\n",
      " [ 5.9116e+06  2.8869e+07 -5.9690e+06 -2.9156e+07 -2.3073e+07 -5.4814e-06 -8.1156e+07  1.0423e+08]]\n"
     ]
    }
   ],
   "source": [
    "coords = [[100, -0.5], [100, 0.5], [101, 0.5], [101, -0.5]]\n",
    "elements = [[0, 1, 2, 3]]\n",
    "def get_element_r_z(elno, elements, coords):\n",
    "     return np.array([coords[elements[elno][i]][0] for i in range(4)] + \n",
    "                     [coords[elements[elno][i]][1] for i in range(4)])\n",
    "r_z = get_element_r_z(0, elements, coords)\n",
    "K = stiffness_matrix(r_z, 190000, 0.3)\n",
    "np.set_printoptions(precision=4, linewidth=120)\n",
    "print(K)"
   ]
  },
  {
   "cell_type": "markdown",
   "metadata": {},
   "source": [
    "Using matplotlib, we can plot the element..."
   ]
  },
  {
   "cell_type": "code",
   "execution_count": 3,
   "metadata": {},
   "outputs": [
    {
     "data": {
      "image/png": "[encoded data removed]",
      "text/plain": [
       "<Figure size 432x288 with 1 Axes>"
      ]
     },
     "metadata": {
      "needs_background": "light"
     },
     "output_type": "display_data"
    }
   ],
   "source": [
    "import matplotlib.pyplot as plt\n",
    "def plot_element(x, ax=None, color=\"b\"):\n",
    "    if ax is None:\n",
    "        ax = plt.axes()\n",
    "    ax.plot(np.append(x[4:], x[4]),\n",
    "             np.append(x[:4], x[0]), color=color)\n",
    "    return ax\n",
    "plot_element(r_z)\n",
    "plt.show()"
   ]
  },
  {
   "cell_type": "code",
   "execution_count": 4,
   "metadata": {},
   "outputs": [
    {
     "name": "stdout",
     "output_type": "stream",
     "text": [
      "[ 0.5285  0.5285  0.5228  0.5228 -0.004   0.004   0.004  -0.004 ]\n"
     ]
    },
    {
     "data": {
      "image/png": "[encoded data removed]",
      "text/plain": [
       "<Figure size 432x288 with 1 Axes>"
      ]
     },
     "metadata": {
      "needs_background": "light"
     },
     "output_type": "display_data"
    }
   ],
   "source": [
    "F_r = 5000\n",
    "F_z = 1000*np.pi*(101**2-100**2)\n",
    "F=np.array([F_r, F_r, 0, 0, -F_z, F_z, F_z, -F_z])\n",
    "u = np.linalg.pinv(K)@F\n",
    "print(u)\n",
    "ax = plot_element(r_z)\n",
    "plot_element(r_z + u, ax, \"r\")\n",
    "plt.show()"
   ]
  },
  {
   "cell_type": "code",
   "execution_count": 5,
   "metadata": {},
   "outputs": [
    {
     "name": "stdout",
     "output_type": "stream",
     "text": [
      "[-5.1066e-01  1.6068e+03  2.0091e+03  8.8505e-01]\n",
      "[-5.1066e-01  1.6068e+03  2.0091e+03 -8.8505e-01]\n",
      "[-1.5101e+01  1.5763e+03  1.9910e+03  8.8505e-01]\n",
      "[-1.5101e+01  1.5763e+03  1.9910e+03 -8.8505e-01]\n"
     ]
    }
   ],
   "source": [
    "print(D(190000, 0.3)@B_matrix(100,-0.5,r_z)@u)\n",
    "print(D(190000, 0.3)@B_matrix(100,0.5,r_z)@u)\n",
    "print(D(190000, 0.3)@B_matrix(101,-0.5,r_z)@u)\n",
    "print(D(190000, 0.3)@B_matrix(101,0.5,r_z)@u)"
   ]
  },
  {
   "cell_type": "markdown",
   "metadata": {},
   "source": [
    "# Assembly of stiffness matrix\n",
    "Now let's try assembling the stiffness matrix so we can create a two-element model:"
   ]
  },
  {
   "cell_type": "code",
   "execution_count": 6,
   "metadata": {},
   "outputs": [],
   "source": [
    "def assemble_stiffness_matrix(coords, elements, elmat):\n",
    "    dof = len(coords)*2\n",
    "    K = np.zeros([dof, dof])\n",
    "    for elno, nodenos in enumerate(elements):\n",
    "        r_z = get_element_r_z(elno, elements, coords)\n",
    "        E, nu = elmat[elno]\n",
    "        K_el = stiffness_matrix(r_z, E, nu)\n",
    "        for i, j in enumerate(nodenos):\n",
    "            for k, l in enumerate(nodenos):\n",
    "                K[j, l] += K_el[i, k]\n",
    "                K[j, l+len(coords)] += K_el[i, k+4]\n",
    "                K[j+len(coords), l] += K_el[i+4, k]\n",
    "                K[j+len(coords), l+len(coords)] += K_el[i+4, k+4]\n",
    "    return K"
   ]
  },
  {
   "cell_type": "code",
   "execution_count": 7,
   "metadata": {},
   "outputs": [],
   "source": [
    "coords = [[10,-0.5], [10,0.5], [11,-0.5], [11,0.5], [12,-0.5], [12,0.5]]\n",
    "elements = [[0, 1, 3, 2], [2, 3, 5, 4]]\n",
    "elmat = [[190000, 0.3], [190000, 0.3]]\n",
    "K = assemble_stiffness_matrix(coords, elements, elmat)"
   ]
  },
  {
   "cell_type": "code",
   "execution_count": 8,
   "metadata": {},
   "outputs": [
    {
     "name": "stdout",
     "output_type": "stream",
     "text": [
      "[-0.0413 -0.0413 -0.049  -0.049  -0.0566 -0.0566 -0.0112  0.0112 -0.0112  0.0112 -0.0112  0.0112]\n"
     ]
    },
    {
     "data": {
      "image/png": "[encoded data removed]",
      "text/plain": [
       "<Figure size 432x288 with 1 Axes>"
      ]
     },
     "metadata": {
      "needs_background": "light"
     },
     "output_type": "display_data"
    }
   ],
   "source": [
    "F_r = 1000\n",
    "F_z = 1000*np.pi*(12**2-10**2)/10\n",
    "F = np.array([F_r, F_r, F_r, F_r, F_r, F_r, -10*F_z, 10*F_z, -2*11*F_z, 2*11*F_z, -12*F_z, 12*F_z])\n",
    "u = np.linalg.pinv(K)@F\n",
    "print(u)\n",
    "ax = None\n",
    "for elno, nodenos in enumerate(elements):\n",
    "    r_z = get_element_r_z(elno, elements, coords)\n",
    "    u_el = np.append(u[nodenos], u[[i+len(coords) for i in nodenos]])\n",
    "    ax = plot_element(r_z, ax)\n",
    "    ax = plot_element(r_z + u_el, ax, \"r\")\n",
    "plt.show()"
   ]
  },
  {
   "cell_type": "code",
   "execution_count": 9,
   "metadata": {},
   "outputs": [
    {
     "name": "stdout",
     "output_type": "stream",
     "text": [
      "[   8.8938  539.8846 4403.6508   69.5387]\n",
      "[   8.8938  539.8846 4403.6508   69.5387]\n",
      "[ -16.8794  465.8396 4391.7854   76.4925]\n",
      "[ -16.8794  465.8396 4391.7854   76.4925]\n",
      "[  20.2002  481.7308 4407.6766   58.5197]\n",
      "[  20.2002  481.7308 4407.6766   58.5197]\n",
      "[-6.6553e-01  4.2240e+02  4.3975e+03  6.3840e+01]\n",
      "[-6.6553e-01  4.2240e+02  4.3975e+03  6.3840e+01]\n"
     ]
    }
   ],
   "source": [
    "for elno, nodenos in enumerate(elements):\n",
    "    r_z = get_element_r_z(elno, elements, coords)\n",
    "    u_el = np.append(u[nodenos], u[[i+len(coords) for i in nodenos]])\n",
    "    for nodeno in nodenos:\n",
    "        print(D(190000, 0.3)@B_matrix(coords[nodeno][0],coords[nodeno][0],r_z)@u_el)"
   ]
  },
  {
   "cell_type": "markdown",
   "metadata": {},
   "source": [
    "# Six element model\n",
    "And now, a six element model...."
   ]
  },
  {
   "cell_type": "code",
   "execution_count": 10,
   "metadata": {},
   "outputs": [],
   "source": [
    "coords = [\n",
    "    [10, -0.5],\n",
    "    [10, 0],\n",
    "    [10, 1],\n",
    "    [11, -0.5],\n",
    "    [11, 0],\n",
    "    [11, 0.5],\n",
    "    [12, -0.5],\n",
    "    [12, 0],\n",
    "    [12, 0.5],\n",
    "    [13, -1],\n",
    "    [13, 0],\n",
    "    [13, 0.5]\n",
    "] \n",
    "elements = [\n",
    "    [0, 1, 4, 3],\n",
    "    [1, 2, 5, 4],\n",
    "    [3, 4, 7, 6],\n",
    "    [4, 5, 8, 7],\n",
    "    [6, 7, 10, 9],\n",
    "    [7, 8, 11, 10]]\n",
    "elmat = [[190000, 0.3], [190000, 0.3], [190000, 0.3], [190000, 0.3], [190000, 0.3], [190000, 0.3]]\n",
    "K = assemble_stiffness_matrix(coords, elements, elmat)"
   ]
  },
  {
   "cell_type": "markdown",
   "metadata": {},
   "source": [
    "This time, we want to calculate the radial nodal forces based on c.f. load. The element body force is:\n",
    "\n",
    "\\begin{equation*} f_b = 2 \\pi \\bar{r} A R_b\\end{equation*}\n",
    "\n",
    "Where $R_b = \\omega^2 \\rho \\bar{r}$.\n",
    "\n",
    "Average radius $\\bar{r}\\$ is:\n",
    "\n",
    "\\begin{equation*} \\bar{r} = \\int\\limits_A r dA \\end{equation*}\n",
    "\n",
    "For a triangle, this is the average of the nodal radii; a quadrilateral, it is the area-weighted average of the two triangles:\n",
    "\n",
    "$$\\bar{r} = \\frac{\\frac{1}{3}A_{123}(r_1 + r_2 + r_3) + \\frac{1}{3}A_{234}(r_2 + r_3 + r_4)}{A}$$\n",
    "\n",
    "$$A_{123} = \\frac{1}{2} \\vert r_1 z_2 + r_2 z_3 + r_3 z_1 − r_1 z_3 − r_3 z_2 − r_2 z_1 \\vert$$\n",
    "\n",
    "$$A_{234} = \\frac{1}{2} \\vert r_2 z_3 + r_3 z_4 + r_4 z_2 − r_2 z_4 − r_4 z_3 − r_3 z_2 \\vert$$"
   ]
  },
  {
   "cell_type": "code",
   "execution_count": 11,
   "metadata": {},
   "outputs": [
    {
     "name": "stdout",
     "output_type": "stream",
     "text": [
      "[ 0.3131  0.2939  0.2548  0.3049  0.286   0.2669  0.2979  0.2793  0.2606  0.3093  0.273   0.2546 -0.0521 -0.0568\n",
      " -0.0654 -0.0143 -0.0185 -0.0223  0.0228  0.0191  0.0157  0.0628  0.056   0.053 ]\n"
     ]
    },
    {
     "data": {
      "image/png": "[encoded data removed]",
      "text/plain": [
       "<Figure size 432x288 with 1 Axes>"
      ]
     },
     "metadata": {
      "needs_background": "light"
     },
     "output_type": "display_data"
    }
   ],
   "source": [
    "rho = 8908*10**-9\n",
    "omega = 2000\n",
    "r_, A, F_r, F_z = [], [], [0]*len(coords), [0]*len(coords)\n",
    "\n",
    "def calc_element_r_(r_z):\n",
    "    A_123 = 0.5*abs(r_z[0]*r_z[5] + r_z[1]*r_z[6] + r_z[2]*r_z[4] - r_z[0]*r_z[6] - r_z[2]*r_z[5]  - r_z[1]*r_z[4])\n",
    "    A_234 = 0.5*abs(r_z[1]*r_z[6] + r_z[2]*r_z[7] + r_z[3]*r_z[5] - r_z[1]*r_z[7] - r_z[3]*r_z[6]  - r_z[2]*r_z[5])\n",
    "    r_123 = (r_z[0] + r_z[1] + r_z[2])/3\n",
    "    r_234 = (r_z[1] + r_z[2] + r_z[3])/3\n",
    "    A = A_123 + A_234\n",
    "    r_ = (r_123 * A_123 + r_234 * A_234) / A\n",
    "    return r_, A\n",
    "\n",
    "for elno, nodenos in enumerate(elements):\n",
    "    r_z = get_element_r_z(elno, elements, coords)\n",
    "    A.append(calc_element_area(r_z))\n",
    "    r_, A_ = calc_element_r_(r_z)\n",
    "    fb = 2*np.pi*r_**2*A_*omega**2*rho\n",
    "    for i in nodenos:\n",
    "        F_r[i] += fb/4\n",
    "\n",
    "F = np.array(F_r + F_z)\n",
    "u = np.linalg.pinv(K)@F\n",
    "print(u)\n",
    "ax = None\n",
    "for elno, nodenos in enumerate(elements):\n",
    "    r_z = get_element_r_z(elno, elements, coords)\n",
    "    u_el = np.append(u[nodenos], u[[i+len(coords) for i in nodenos]])\n",
    "    ax = plot_element(r_z, ax)\n",
    "    ax = plot_element(r_z + u_el, ax, \"r\")\n",
    "plt.show()"
   ]
  },
  {
   "cell_type": "code",
   "execution_count": 12,
   "metadata": {},
   "outputs": [
    {
     "name": "stdout",
     "output_type": "stream",
     "text": [
      "[-0.0009 -0.009  -0.0095  0.0119]\n",
      "[-0.0009 -0.009  -0.0095  0.0119]\n",
      "[-0.0002 -0.0117 -0.0083  0.0138]\n",
      "[-0.0002 -0.0117 -0.0083  0.0138]\n",
      "[ 0.0013 -0.0097 -0.0085  0.0075]\n",
      "[ 0.0013 -0.0097 -0.0085  0.0075]\n",
      "[ 0.0022 -0.0122 -0.0077  0.0093]\n",
      "[ 0.0022 -0.0122 -0.0077  0.0093]\n",
      "[-0.0002 -0.0117 -0.0083  0.0097]\n",
      "[-0.0002 -0.0117 -0.0083  0.0097]\n",
      "[ 0.0004 -0.0138 -0.0074  0.0112]\n",
      "[ 0.0004 -0.0138 -0.0074  0.0112]\n",
      "[ 0.002  -0.0122 -0.0077  0.008 ]\n",
      "[ 0.002  -0.0122 -0.0077  0.008 ]\n",
      "[ 0.0028 -0.0141 -0.0069  0.0096]\n",
      "[ 0.0028 -0.0141 -0.0069  0.0096]\n",
      "[ 0.0034 -0.0138 -0.0074  0.008 ]\n",
      "[ 0.0034 -0.0138 -0.0074  0.008 ]\n",
      "[ 0.0042 -0.0153 -0.0068  0.0095]\n",
      "[ 0.0042 -0.0153 -0.0068  0.0095]\n",
      "[ 0.0022 -0.0141 -0.0069  0.0094]\n",
      "[ 0.0022 -0.0141 -0.0069  0.0094]\n",
      "[ 0.0029 -0.0157 -0.0061  0.011 ]\n",
      "[ 0.0029 -0.0157 -0.0061  0.011 ]\n"
     ]
    }
   ],
   "source": [
    "for elno, nodenos in enumerate(elements):\n",
    "    r_z = get_element_r_z(elno, elements, coords)\n",
    "    u_el = np.append(u[nodenos], u[[i+len(coords) for i in nodenos]])\n",
    "    for nodeno in nodenos:\n",
    "        print(B_matrix(coords[nodeno][0],coords[nodeno][0],r_z)@u_el)"
   ]
  },
  {
   "cell_type": "code",
   "execution_count": 13,
   "metadata": {},
   "outputs": [
    {
     "data": {
      "image/png": "[encoded data removed]",
      "text/plain": [
       "<Figure size 432x288 with 1 Axes>"
      ]
     },
     "metadata": {
      "needs_background": "light"
     },
     "output_type": "display_data"
    }
   ],
   "source": [
    "ax = plt.axes()\n",
    "vmin, vmax = 9999, -9999\n",
    "for elno, nodenos in enumerate(elements):\n",
    "    u_el = np.append(u[nodenos], u[[i+len(coords) for i in nodenos]])\n",
    "    for nodeno in nodenos:\n",
    "        sigma = (B_matrix(coords[nodeno][0],coords[nodeno][1],r_z)@u_el)[1]\n",
    "        vmin = sigma if sigma < vmin else vmin\n",
    "        vmax = sigma if sigma > vmax else vmax\n",
    "\n",
    "for elno, nodenos in enumerate(elements):\n",
    "    r_z = get_element_r_z(elno, elements, coords)\n",
    "    u_el = np.append(u[nodenos], u[[i+len(coords) for i in nodenos]])\n",
    "    str_hp = []\n",
    "    for nodeno in nodenos:\n",
    "        str_hp.append((B_matrix(coords[nodeno][0],coords[nodeno][1],r_z)@u_el)[1])\n",
    "    ax.contourf([[r_z[4], r_z[5]],[r_z[7], r_z[6]]],[[r_z[0], r_z[1]],[r_z[3], r_z[2]]],[[str_hp[0],str_hp[1]],[str_hp[3],str_hp[2]]], vmin=vmin, vmax=vmax)\n",
    "\n",
    "#ax.colorbar()\n",
    "plt.show()"
   ]
  },
  {
   "cell_type": "code",
   "execution_count": 14,
   "metadata": {},
   "outputs": [],
   "source": [
    "coords = [\n",
    "    [5, -6],\n",
    "    [5, -4.5],\n",
    "    [5, -3],\n",
    "    [5, -1.5],\n",
    "    [5, 0],\n",
    "    [5, 1.5],\n",
    "    [5, 3],\n",
    "    [5, 4.5],\n",
    "    [5, 6],\n",
    "    [8, -4],\n",
    "    [8, -3],\n",
    "    [8, -2],\n",
    "    [8, -1],\n",
    "    [8, 0],\n",
    "    [8, 1],\n",
    "    [8, 2],\n",
    "    [8, 3],\n",
    "    [8, 4],\n",
    "    [10, -4*3/4],\n",
    "    [10, -3*3/4],\n",
    "    [10, -2*3/4],\n",
    "    [10, -1*3/4],\n",
    "    [10, 0*3/4],\n",
    "    [10, 1*3/4],\n",
    "    [10, 2*3/4],\n",
    "    [10, 3*3/4],\n",
    "    [10, 4*3/4],\n",
    "    [12, -4*2/3],\n",
    "    [12, -3*2/3],\n",
    "    [12, -2*2/3],\n",
    "    [12, -1*2/3],\n",
    "    [12, 0*2/3],\n",
    "    [12, 1*2/3],\n",
    "    [12, 2*2/3],\n",
    "    [12, 3*2/3],\n",
    "    [12, 4*2/3],\n",
    "    [14, -4*3/5],\n",
    "    [14, -3*3/5],\n",
    "    [14, -2*3/5],\n",
    "    [14, -1*3/5],\n",
    "    [14, 0*3/5],\n",
    "    [14, 1*3/5],\n",
    "    [14, 2*3/5],\n",
    "    [14, 3*3/5],\n",
    "    [14, 4*3/5],\n",
    "    [20, -4*3/5],\n",
    "    [20, -3*3/5],\n",
    "    [20, -2*3/5],\n",
    "    [20, -1*3/5],\n",
    "    [20, 0*3/5],\n",
    "    [20, 1*3/5],\n",
    "    [20, 2*3/5],\n",
    "    [20, 3*3/5],\n",
    "    [20, 4*3/5],\n",
    "    [26, -4*3/5],\n",
    "    [26, -3*3/5],\n",
    "    [26, -2*3/5],\n",
    "    [26, -1*3/5],\n",
    "    [26, 0*3/5],\n",
    "    [26, 1*3/5],\n",
    "    [26, 2*3/5],\n",
    "    [26, 3*3/5],\n",
    "    [26, 4*3/5],\n",
    "    [27, -4*4/5],\n",
    "    [27, -3*4/5],\n",
    "    [27, -2*4/5],\n",
    "    [27, -1*4/5],\n",
    "    [27, 0*2/3],\n",
    "    [27, 1*2/3],\n",
    "    [27, 2*2/3],\n",
    "    [27, 3*2/3],\n",
    "    [27, 4*2/3],\n",
    "    [28, -4*9/8],\n",
    "    [28, -3*9/8],\n",
    "    [28, -2*9/8],\n",
    "    [28, -1*9/8],\n",
    "    [28, 0*3/4],\n",
    "    [28, 1*3/4],\n",
    "    [28, 2*3/4],\n",
    "    [28, 3*3/4],\n",
    "    [28, 4*3/4],\n",
    "    [29, -4*1.5],\n",
    "    [29, -3*1.5],\n",
    "    [29, -2*1.5],\n",
    "    [29, -1*1.5],\n",
    "    [29, 0],\n",
    "    [29, 1],\n",
    "    [29, 2],\n",
    "    [29, 3],\n",
    "    [29, 4],\n",
    "    [30, -4*1.5],\n",
    "    [30, -3*1.5],\n",
    "    [30, -2*1.5],\n",
    "    [30, -1*1.5],\n",
    "    [30, 0],\n",
    "    [30, 1],\n",
    "    [30, 2],\n",
    "    [30, 3],\n",
    "    [30, 4],\n",
    "] \n",
    "elements = []\n",
    "elmat =[]\n",
    "for i in range(10):\n",
    "    for j in range(8):\n",
    "        elements.append([\n",
    "            9 * i + j,\n",
    "            9 * i + j + 1,\n",
    "            9 * i + j + 10,\n",
    "            9 * i + j + 9\n",
    "        ])\n",
    "        elmat.append([190000, 0.3])\n",
    "K = assemble_stiffness_matrix(coords, elements, elmat)"
   ]
  },
  {
   "cell_type": "code",
   "execution_count": 15,
   "metadata": {},
   "outputs": [
    {
     "name": "stdout",
     "output_type": "stream",
     "text": [
      "[ 0.1029  0.125   0.1401  0.1461  0.1428  0.1312  0.1127  0.0885  0.06    0.1299  0.1411  0.1466  0.1468  0.1429\n",
      "  0.1356  0.1252  0.1118  0.0952  0.155   0.1589  0.1592  0.1568  0.1524  0.1464  0.1388  0.1299  0.1194  0.1825\n",
      "  0.1808  0.1775  0.1729  0.1672  0.1607  0.1535  0.1455  0.137   0.211   0.2046  0.1982  0.1918  0.185   0.1779\n",
      "  0.1704  0.1625  0.1541  0.2733  0.2638  0.2543  0.2447  0.235   0.2253  0.2154  0.2054  0.1953  0.3135  0.3002\n",
      "  0.2876  0.2755  0.2636  0.252   0.2405  0.2291  0.2175  0.3378  0.317   0.2982  0.2811  0.265   0.2521  0.2393\n",
      "  0.2265  0.2136  0.3703  0.341   0.3134  0.2881  0.2651  0.2505  0.2361  0.222   0.208   0.4058  0.3671  0.3298\n",
      "  0.2954  0.2643  0.2449  0.2259  0.2073  0.1888  0.4019  0.3641  0.3277  0.2938  0.263   0.2435  0.2246  0.2059\n",
      "  0.1873 -0.0763 -0.0908 -0.1123 -0.1374 -0.1628 -0.1864 -0.2067 -0.2221 -0.2314 -0.1139 -0.1212 -0.1302 -0.1398\n",
      " -0.1495 -0.1586 -0.1669 -0.1738 -0.1791 -0.1119 -0.1189 -0.1259 -0.1327 -0.1393 -0.1455 -0.1513 -0.1566 -0.1615\n",
      " -0.0979 -0.1055 -0.1124 -0.1188 -0.1248 -0.1304 -0.1359 -0.141  -0.146  -0.08   -0.0865 -0.0927 -0.0986 -0.1041\n",
      " -0.1094 -0.1145 -0.1193 -0.124   0.0032 -0.0024 -0.0076 -0.0126 -0.0174 -0.0219 -0.0262 -0.0303 -0.0343  0.1082\n",
      "  0.104   0.1001  0.0964  0.093   0.0897  0.0865  0.0834  0.0804  0.1287  0.1252  0.1215  0.1177  0.114   0.111\n",
      "  0.1083  0.1057  0.1033  0.1545  0.1504  0.1455  0.1403  0.1353  0.1323  0.1295  0.1271  0.125   0.1838  0.1778\n",
      "  0.171   0.1635  0.1564  0.1523  0.1487  0.1457  0.1432  0.2083  0.2017  0.1938  0.1852  0.1771  0.1724  0.1684\n",
      "  0.1651  0.1627]\n"
     ]
    },
    {
     "data": {
      "image/png": "[encoded data removed]",
      "text/plain": [
       "<Figure size 432x288 with 1 Axes>"
      ]
     },
     "metadata": {
      "needs_background": "light"
     },
     "output_type": "display_data"
    }
   ],
   "source": [
    "rho = 8908*10**-9\n",
    "omega = 1000\n",
    "r_, A, F_r, F_z = [], [], [0]*len(coords), [0]*len(coords)\n",
    "for elno, nodenos in enumerate(elements):\n",
    "    r_z = get_element_r_z(elno, elements, coords)\n",
    "    A.append(calc_element_area(r_z))\n",
    "    r_, A_ = calc_element_r_(r_z)\n",
    "    fb = 2*np.pi*r_**2*A_*omega**2*rho\n",
    "    for i in nodenos:\n",
    "        F_r[i] += fb/4\n",
    "\n",
    "F = np.array(F_r + F_z)\n",
    "u = np.linalg.pinv(K)@F\n",
    "print(u)\n",
    "ax = None\n",
    "for elno, nodenos in enumerate(elements):\n",
    "    r_z = get_element_r_z(elno, elements, coords)\n",
    "    u_el = np.append(u[nodenos], u[[i+len(coords) for i in nodenos]])\n",
    "    ax = plot_element(r_z, ax)\n",
    "    ax = plot_element(r_z + u_el, ax, \"r\")\n",
    "plt.show()"
   ]
  },
  {
   "cell_type": "code",
   "execution_count": 16,
   "metadata": {},
   "outputs": [
    {
     "name": "stdout",
     "output_type": "stream",
     "text": [
      "-0.003909322377170121 0.015691269033828087\n"
     ]
    },
    {
     "data": {
      "image/png": "[encoded data removed]",
      "text/plain": [
       "<Figure size 432x288 with 1 Axes>"
      ]
     },
     "metadata": {
      "needs_background": "light"
     },
     "output_type": "display_data"
    }
   ],
   "source": [
    "ax = plt.axes()\n",
    "vmin, vmax = 9999, -9999\n",
    "for elno, nodenos in enumerate(elements):\n",
    "    r_z = get_element_r_z(elno, elements, coords)\n",
    "    u_el = np.append(u[nodenos], u[[i+len(coords) for i in nodenos]])\n",
    "    for nodeno in nodenos:\n",
    "        sigma = (B_matrix(coords[nodeno][0],coords[nodeno][1],r_z)@u_el)[0]\n",
    "        vmin = sigma if sigma < vmin else vmin\n",
    "        vmax = sigma if sigma > vmax else vmax\n",
    "print(vmin, vmax)\n",
    "for elno, nodenos in enumerate(elements):\n",
    "    r_z = get_element_r_z(elno, elements, coords)\n",
    "    u_el = np.append(u[nodenos], u[[i+len(coords) for i in nodenos]])\n",
    "    str_hp = []\n",
    "    for nodeno in nodenos:\n",
    "        str_hp.append((B_matrix(coords[nodeno][0],coords[nodeno][1],r_z)@u_el)[0])\n",
    "    ax.contourf([[r_z[4], r_z[5]],[r_z[7], r_z[6]]],[[r_z[0], r_z[1]],[r_z[3], r_z[2]]],[[str_hp[0],str_hp[1]],[str_hp[3],str_hp[2]]], vmin=vmin, vmax=vmax)\n",
    "\n",
    "#ax.colorbar()\n",
    "plt.show()"
   ]
  }
 ],
 "metadata": {
  "kernelspec": {
   "display_name": "Python 3 (ipykernel)",
   "language": "python",
   "name": "python3"
  },
  "language_info": {
   "codemirror_mode": {
    "name": "ipython",
    "version": 3
   },
   "file_extension": ".py",
   "mimetype": "text/x-python",
   "name": "python",
   "nbconvert_exporter": "python",
   "pygments_lexer": "ipython3",
   "version": "3.9.5"
  }
 },
 "nbformat": 4,
 "nbformat_minor": 2
}
